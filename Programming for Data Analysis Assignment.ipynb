{
 "cells": [
  {
   "cell_type": "markdown",
   "metadata": {},
   "source": [
    "## Investigating the numpy.random package in Python"
   ]
  },
  {
   "cell_type": "markdown",
   "metadata": {},
   "source": [
    "![numpy.jpg](numpy.jpg)\n",
    "[NumPy](http://www.numpy.org/) (which stands for Numerical Python) is a library for the Python programming language, that adds support for huge multi-dimensional arrays and matrices of data. It also provides a large collection of high-level mathematical functions to operate on these arrays. It is an open source project and free to import. \n",
    "\n",
    "Randomly generated data is important in [various kinds of statistical research as well as aspects of computer science such as simulation and cryptography](https://en.wikipedia.org/wiki/Random_number_generation) and other areas where unpredictable results are necessary. \n",
    "\n",
    "[numpy.random](https://docs.scipy.org/doc/numpy-1.15.1/reference/routines.random.html) is a submodule of the NumPy package that is used to generate random (or indeed, pseudorandom) numbers, using  an algorithm called the [Mersenne Twister](https://en.wikipedia.org/wiki/Mersenne_Twister), a pseudorandom number generator (PRNG).  This means that numpy.random does not generate numbers that are random in the *truest* sense of the term, rather it's sequence is based on random seed generation, which I'll discuss later in this assignment. \n",
    "\n"
   ]
  },
  {
   "cell_type": "markdown",
   "metadata": {},
   "source": [
    "## Simple random data\n",
    "I decided to try out the various functions as part of the numpy.random submodule to see if running and testing them could help me to understand what each of them does. I found a [blog post](http://www.learningaboutelectronics.com/Articles/How-to-create-an-array-of-random-integers-in-Python-with-numpy.php) that began with an introduction to the submodule and how to create an array of random integers (an array being...)"
   ]
  },
  {
   "cell_type": "code",
   "execution_count": 2,
   "metadata": {},
   "outputs": [
    {
     "name": "stdout",
     "output_type": "stream",
     "text": [
      "[51 70 45 58 36]\n"
     ]
    }
   ],
   "source": [
    "import numpy as np\n",
    "#creates an array of 5 random integers from 1 too 100\n",
    "test1 = np.random.randint(1,101,5)\n",
    "print (test1)"
   ]
  },
  {
   "cell_type": "markdown",
   "metadata": {},
   "source": [
    "Using this blog's suggested array as a basis for further testing, I listed through the rest of the commands in the Simple Random Data *category* as follows:"
   ]
  },
  {
   "cell_type": "code",
   "execution_count": 5,
   "metadata": {},
   "outputs": [
    {
     "name": "stdout",
     "output_type": "stream",
     "text": [
      "[[[-7.83606606e-03 -6.31017680e-01 -5.99908803e-01 -1.92780780e-01\n",
      "   -3.70033933e-01]\n",
      "  [ 9.56103059e-01  2.10247378e+00 -1.77804747e-01  3.04084065e-01\n",
      "    8.82791483e-01]\n",
      "  [-4.08216649e-02 -3.20336066e-01 -6.20156188e-01 -7.86898225e-01\n",
      "   -1.75988650e+00]\n",
      "  [-1.05812319e-01  4.23708725e-01  1.50330007e+00  2.64100877e+00\n",
      "    7.39213148e-01]\n",
      "  [ 1.41883606e+00  7.24261001e-01 -1.52367355e+00  7.32188307e-01\n",
      "    2.06313394e-01]\n",
      "  [-6.12459180e-01 -9.63189409e-01  1.80818869e-01 -5.73736448e-01\n",
      "    9.48165651e-01]\n",
      "  [ 2.88216743e-01  1.01381822e+00 -5.06603114e-01 -3.88426332e-01\n",
      "    1.08979017e+00]\n",
      "  [ 9.01635519e-01  1.12789357e-01  4.71872474e-01 -4.98589087e-01\n",
      "    2.62659702e+00]\n",
      "  [-1.02636760e+00  4.48812448e-01  2.37126210e-01  4.19087216e-01\n",
      "    1.69870103e+00]\n",
      "  [-7.95674635e-01  9.98728079e-03  9.93080564e-01  3.96063950e-01\n",
      "    1.05935790e+00]\n",
      "  [ 6.42921470e-01  9.99941282e-01  1.45372761e+00 -1.37773885e+00\n",
      "    8.33830526e-01]\n",
      "  [-2.03787338e+00 -4.21719328e-01  5.93819625e-01  3.87926340e-01\n",
      "    9.97633528e-02]\n",
      "  [-1.69097193e+00  1.93576700e-01  1.43701563e+00 -1.22174123e+00\n",
      "   -5.53966348e-01]\n",
      "  [ 2.71794485e-01  1.04679077e-01  5.49000065e-01 -1.25241525e+00\n",
      "   -1.35901724e+00]\n",
      "  [-5.99959865e-01 -2.42022239e-01  1.39027039e+00  7.89577691e-01\n",
      "   -5.36400502e-01]\n",
      "  [ 7.85554844e-02 -2.04683090e-01 -3.97187794e-01 -1.00080642e+00\n",
      "    3.11063416e-01]\n",
      "  [ 5.48169883e-01  2.01709603e+00 -5.07594305e-01 -1.35248693e+00\n",
      "    2.38056215e-02]\n",
      "  [-9.46864306e-02  6.54862124e-01 -1.73571874e+00  1.12876664e-01\n",
      "   -1.39774843e+00]\n",
      "  [-8.87190422e-01 -1.22407554e+00  1.48298764e-01 -1.28021149e+00\n",
      "    1.02397098e+00]\n",
      "  [ 6.15230891e-02 -7.11025217e-01 -7.82449023e-01  1.26362905e+00\n",
      "    3.24997027e-01]\n",
      "  [-6.36366844e-01  1.95925650e-01  2.33160825e+00 -5.11588302e-01\n",
      "   -8.72574392e-01]\n",
      "  [-9.34458487e-03 -1.16778225e+00  5.66733004e-01  9.50736511e-01\n",
      "    1.48145887e+00]\n",
      "  [-1.40648777e+00  1.87361683e+00 -2.24732015e-01  7.58195637e-01\n",
      "   -4.98769698e-02]\n",
      "  [ 3.08545268e+00  1.88054593e+00  2.32693853e+00  2.59141374e+00\n",
      "    6.41694325e-01]\n",
      "  [ 2.28528267e-01 -8.57184329e-02  9.23055568e-01 -1.06087304e+00\n",
      "    3.14443322e-01]\n",
      "  [-8.92027156e-01  6.74583015e-01 -1.18234171e+00  7.34744291e-01\n",
      "    1.09630757e+00]\n",
      "  [-1.39929107e+00 -1.17051907e+00 -2.79645497e-01  1.80418076e-01\n",
      "    7.27050111e-01]\n",
      "  [-1.08751804e+00 -1.12543346e+00 -1.13194757e+00 -9.21902173e-01\n",
      "    1.16153691e+00]\n",
      "  [-2.03215171e+00 -1.24743949e+00 -5.16437757e-02 -1.66035389e+00\n",
      "    2.49254216e-01]\n",
      "  [ 1.71472120e+00  1.45606554e-01 -2.19644341e+00  4.91004651e-01\n",
      "    2.55060134e-01]\n",
      "  [-6.81982597e-01  3.97834854e-01 -1.21145128e+00 -6.90475710e-01\n",
      "   -1.89556037e+00]\n",
      "  [ 3.92691005e-01 -3.79922093e-01 -4.45187688e-01 -1.11142722e+00\n",
      "    6.54797979e-01]\n",
      "  [ 9.79486035e-01  1.14717535e-01 -2.26005277e-01  1.38117502e+00\n",
      "    7.77076910e-01]\n",
      "  [-7.98955846e-01  1.48843420e-01 -1.42914329e-02  4.21411433e-01\n",
      "   -3.23852160e-01]\n",
      "  [ 1.09411976e+00  1.98855682e-01 -1.83747146e+00  1.31020620e+00\n",
      "    5.78081353e-01]\n",
      "  [ 1.23128378e-02  9.75425403e-01 -1.44034002e+00 -2.27656198e+00\n",
      "    3.29713453e-01]\n",
      "  [-4.80637066e-02 -4.25847126e-01 -5.87066076e-01  1.45822128e+00\n",
      "    6.53540667e-01]\n",
      "  [-1.65157158e+00  3.62781205e-01 -2.21116439e-01 -1.21189860e+00\n",
      "    1.63304228e-01]\n",
      "  [ 1.33256628e+00  2.55202570e+00  1.94620660e-01 -1.11980045e+00\n",
      "    9.84719214e-01]\n",
      "  [-1.13826087e+00 -3.77089572e-01  3.18564743e-01 -8.44988662e-01\n",
      "    2.12306457e-02]\n",
      "  [ 3.23188382e-01 -1.07698585e-01 -6.77765041e-01 -1.11979911e-01\n",
      "    2.99402290e-01]\n",
      "  [-1.45095707e+00 -1.39945243e+00  1.63837681e+00 -3.97850598e-01\n",
      "   -1.23220898e+00]\n",
      "  [ 1.33117074e+00  2.08912791e+00 -5.87061745e-01  4.68279760e-01\n",
      "    6.63322223e-01]\n",
      "  [ 7.17390406e-01  2.33111137e-01 -2.20899524e-01 -9.40187558e-01\n",
      "    1.28177710e+00]\n",
      "  [ 7.77562964e-01  1.70945582e+00  8.14449516e-01  6.65679411e-01\n",
      "    1.27056433e-01]\n",
      "  [-5.94333317e-01 -4.07615560e-01  1.18932991e+00 -8.44990913e-01\n",
      "    3.36371817e-01]\n",
      "  [-2.57994224e+00 -1.88522609e-02 -4.68390956e-01  1.70540304e-01\n",
      "    6.13761198e-02]\n",
      "  [ 4.64427015e-01 -2.83520517e+00 -7.52628395e-01  5.11393256e-01\n",
      "   -7.85059048e-01]\n",
      "  [ 3.19995632e-01  2.97607046e-01  1.58318550e+00 -4.83443849e-01\n",
      "    1.46678981e-01]\n",
      "  [-3.28888412e-01 -4.38238166e-01  4.16564472e-01 -1.20802386e+00\n",
      "   -5.05732439e-01]\n",
      "  [-1.39549181e-01  2.76561529e-01 -6.21811253e-01 -5.37675716e-01\n",
      "    9.31762219e-01]\n",
      "  [ 1.23705949e+00 -4.16392144e-01 -7.47859046e-01 -1.71271685e+00\n",
      "   -1.01940169e+00]\n",
      "  [-5.98387374e-01  5.87015377e-01  1.02027155e+00  1.53792281e+00\n",
      "   -9.73839695e-01]\n",
      "  [ 7.06580292e-01 -4.37419029e-01 -1.18929814e+00 -5.16612545e-02\n",
      "    8.49490747e-01]\n",
      "  [ 9.64911466e-01  8.07881933e-01  1.69815231e+00 -1.27736815e+00\n",
      "    1.43534079e-01]\n",
      "  [-1.22634901e+00  3.49686739e-02 -3.62333121e-01 -5.79938534e-01\n",
      "   -1.13107102e+00]\n",
      "  [ 1.48872965e+00 -1.02721047e+00 -1.79810084e+00  1.03911191e-01\n",
      "   -3.09547158e-01]\n",
      "  [-2.73188744e-01  1.49005901e-03  2.80597617e-01  2.05623848e+00\n",
      "    1.37028217e+00]\n",
      "  [ 4.97268724e-01  3.80644034e-01 -2.54519134e+00 -7.49710611e-01\n",
      "   -8.15645395e-01]\n",
      "  [ 3.42334039e-01 -1.64607609e+00  4.73039101e-01  4.87941874e-01\n",
      "   -3.83304643e-01]\n",
      "  [ 6.14069247e-01  1.40135982e-01  2.28624712e-01  2.03992644e+00\n",
      "    1.47523026e+00]\n",
      "  [-1.46124239e+00 -1.71086771e+00  1.85243320e-02 -1.27882115e+00\n",
      "   -1.45885237e-01]\n",
      "  [-2.37553786e-01  4.61735221e-01 -9.56406106e-01 -6.29813806e-01\n",
      "   -2.25873300e+00]\n",
      "  [-2.76890605e-01  1.07280785e+00  5.01561865e-01 -1.24816532e+00\n",
      "   -1.17208138e+00]\n",
      "  [-2.06555306e-01 -3.62112669e-01  1.78056640e+00 -3.79771812e-01\n",
      "    1.60331028e-01]\n",
      "  [-1.10797700e+00  1.50755613e+00  5.21490646e-01 -8.95227573e-02\n",
      "    2.61932250e-01]\n",
      "  [ 1.86280757e+00 -9.97374172e-01 -1.12843951e+00 -6.28548217e-02\n",
      "    1.85842760e+00]\n",
      "  [ 3.25814003e-01  1.00784937e+00  1.05511969e+00  1.47297714e+00\n",
      "   -1.05571062e+00]\n",
      "  [-4.88854264e-01  2.48559130e-01 -1.86701584e+00 -5.10920998e-01\n",
      "   -4.38210033e-01]\n",
      "  [-8.97741363e-02 -4.73766035e-01 -2.35361407e+00  1.35847216e+00\n",
      "    6.19978057e-01]\n",
      "  [ 1.53431921e+00 -1.90165379e-01 -1.02206728e+00 -1.64744811e+00\n",
      "    2.87144314e-01]\n",
      "  [ 1.95501543e-01  1.11410151e-01 -5.93362190e-02 -5.91586482e-02\n",
      "   -4.85757175e-01]\n",
      "  [ 1.23097746e-01  1.85733022e+00  3.32927568e-01  4.84326278e-01\n",
      "    4.10619234e-01]\n",
      "  [ 1.13629534e-01  1.46260669e+00  8.17714574e-01 -1.32211550e+00\n",
      "    2.83688315e-01]\n",
      "  [ 1.28257930e+00 -1.31042820e+00 -3.32308990e-01  4.42033856e-01\n",
      "   -1.63450798e+00]\n",
      "  [ 9.13520002e-02  6.98605971e-01 -3.81238185e-01 -1.34745820e+00\n",
      "    7.52834364e-01]\n",
      "  [ 1.20703420e-01  2.61480571e-01 -1.81751014e-01  1.06320694e-01\n",
      "   -1.09873955e+00]\n",
      "  [-1.17590168e+00  1.49369482e-01 -1.66114702e+00  8.61546267e-01\n",
      "   -1.41317350e+00]\n",
      "  [-6.16242574e-01 -2.57002512e-01  7.53232012e-01 -1.08425115e+00\n",
      "   -1.35121988e+00]\n",
      "  [ 5.16297160e-01 -1.02589517e+00 -3.05996290e-01  1.52709444e+00\n",
      "   -1.82288424e-01]\n",
      "  [ 5.89295831e-01 -7.91792574e-02 -1.24569091e+00  1.90281545e+00\n",
      "   -1.12190018e-01]\n",
      "  [ 9.39205316e-01 -3.56613718e-01 -1.26794518e+00  1.89795690e-01\n",
      "   -6.04621917e-02]\n",
      "  [-1.23625598e+00  2.74099750e-01 -2.44009054e-01  4.16990522e-01\n",
      "    1.46237729e+00]\n",
      "  [-4.88087576e-01 -4.48394254e-01  8.12437482e-01  7.39188524e-01\n",
      "   -4.69221257e-01]\n",
      "  [ 1.16832760e+00  3.00901174e-02  8.67791200e-01  3.65346946e-01\n",
      "    1.15385928e+00]\n",
      "  [-7.81563217e-01  5.98668979e-01  2.32894760e-02 -2.09617857e+00\n",
      "   -1.33791504e-02]\n",
      "  [-2.86412046e-01 -3.22128960e-01 -8.52188063e-01  4.61904816e-01\n",
      "    7.61851857e-01]\n",
      "  [ 1.33342197e+00  3.43809228e-01  9.99300286e-01 -3.98927850e-02\n",
      "    1.44728219e+00]\n",
      "  [ 2.52890559e-02 -1.06812396e+00  8.68713501e-03 -1.46752870e-01\n",
      "    1.85842312e+00]\n",
      "  [-1.78413482e+00 -1.23661606e-01 -1.01305414e+00 -9.26836478e-02\n",
      "    1.14401948e+00]\n",
      "  [ 2.73889846e-01 -8.51920322e-01 -4.08919883e-01  1.21251093e+00\n",
      "    9.99390821e-02]\n",
      "  [ 1.12219779e+00 -7.55274443e-01 -8.86881393e-01  1.92558760e+00\n",
      "   -1.08841369e-01]\n",
      "  [ 4.96324804e-01  5.06889220e-01 -7.43225668e-01  2.66990543e-01\n",
      "    1.05812433e+00]\n",
      "  [-1.21664862e+00  2.85337760e-01  5.07102989e-01  7.99497349e-01\n",
      "   -1.34993487e+00]\n",
      "  [ 9.39189429e-02 -9.36992544e-01  6.01014270e-01  4.51518591e-01\n",
      "    2.48226923e+00]\n",
      "  [ 5.89380301e-01  1.34562686e-01 -8.20399582e-01  8.49815980e-01\n",
      "   -7.89289979e-01]\n",
      "  [-5.09619066e-01 -4.44796262e-01  1.02199127e+00  1.03388625e-01\n",
      "   -1.88419904e+00]\n",
      "  [-4.80706941e-01 -1.26238544e+00 -9.15357761e-01  1.23662932e+00\n",
      "   -2.48099688e-01]\n",
      "  [-6.12939257e-01  1.12722244e+00 -1.28735317e-01  1.62081882e+00\n",
      "   -2.55922870e-01]\n",
      "  [ 2.66369485e-01 -2.95745813e-01  1.29334333e+00 -6.71284486e-01\n",
      "   -5.74240632e-01]\n",
      "  [ 3.50671477e-02 -1.92184355e+00 -7.36504169e-01  5.25199627e-01\n",
      "    4.99625586e-01]]]\n",
      "[26 39 92 96 30]\n"
     ]
    }
   ],
   "source": [
    "test2 = np.random.randn(1,101,5)\n",
    "print (test2)\n",
    "\n",
    "test3 = np.random.randint(1, 101,5)\n",
    "print (test3)\n",
    "\n",
    "#the function np.random.integers has been deprecated and replaced with the above np.random.randint"
   ]
  },
  {
   "cell_type": "markdown",
   "metadata": {},
   "source": [
    "## Permutations\n",
    "The Permutations functions of numpy.random are [shuffle(x)](https://docs.scipy.org/doc/numpy-1.15.0/reference/generated/numpy.random.shuffle.html) and permutation(x).  \n",
    "\n",
    "Both of these functions relate to re-arranging provided random data, the shuffle(x) function shuffles data on the first axis of a multi-dimensional array, where the order of sub-arrays is changed but the contents remain the same:\n",
    "\n",
    "### 1D Array"
   ]
  },
  {
   "cell_type": "code",
   "execution_count": 6,
   "metadata": {},
   "outputs": [
    {
     "data": {
      "text/plain": [
       "array([ 4, 15,  8, 42, 23, 16])"
      ]
     },
     "execution_count": 6,
     "metadata": {},
     "output_type": "execute_result"
    }
   ],
   "source": [
    "#example from https://www.science-emergence.com/Articles/How-to-randomly-shuffle-an-array-in-python-using-numpy/ \n",
    "import numpy as np\n",
    "M = np.array([4,8,15,16,23,42])\n",
    "np.random.shuffle(M)\n",
    "M"
   ]
  },
  {
   "cell_type": "markdown",
   "metadata": {},
   "source": [
    "### 2D Array"
   ]
  },
  {
   "cell_type": "code",
   "execution_count": 7,
   "metadata": {},
   "outputs": [
    {
     "data": {
      "text/plain": [
       "array([[4, 5, 6],\n",
       "       [7, 8, 9],\n",
       "       [1, 2, 3]])"
      ]
     },
     "execution_count": 7,
     "metadata": {},
     "output_type": "execute_result"
    }
   ],
   "source": [
    "#example from https://www.science-emergence.com/Articles/How-to-randomly-shuffle-an-array-in-python-using-numpy/ \n",
    "import numpy as np\n",
    "M = np.array([[1,2,3],[4,5,6],[7,8,9]])\n",
    "np.random.shuffle(M)\n",
    "M"
   ]
  },
  {
   "cell_type": "markdown",
   "metadata": {},
   "source": [
    "As you can see above, the sequence that the sets are displayed in has been shuffled, but the contents inside the brackets have remained in the same order.\n",
    "\n",
    "The permutations(x) function "
   ]
  }
 ],
 "metadata": {
  "kernelspec": {
   "display_name": "Python 3",
   "language": "python",
   "name": "python3"
  },
  "language_info": {
   "codemirror_mode": {
    "name": "ipython",
    "version": 3
   },
   "file_extension": ".py",
   "mimetype": "text/x-python",
   "name": "python",
   "nbconvert_exporter": "python",
   "pygments_lexer": "ipython3",
   "version": "3.6.6"
  }
 },
 "nbformat": 4,
 "nbformat_minor": 2
}
