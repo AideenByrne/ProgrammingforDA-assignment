{
 "cells": [
  {
   "cell_type": "markdown",
   "metadata": {},
   "source": [
    "## Investigating the numpy.random package"
   ]
  },
  {
   "cell_type": "markdown",
   "metadata": {},
   "source": [
    "![numpy.jpg](numpy.jpg)\n",
    "[NumPy](http://www.numpy.org/) (which stands for Numerical Python) is a library for the Python programming language, that adds support for huge multi-dimensional arrays and matrices of numbers. It also provides a large collection of high-level mathematical functions to operate on these arrays, and executes much faster than standard Python for this. It is an open source project and free to import, generally labelled in code as \"np\". It is part of the [SciPy](https://scipy.org/) ecosystem for Python, which also includes such libraries as pandas and matplotlib.\n",
    "\n",
    "Randomly generated data is important in [various kinds of statistical research as well as aspects of computer science such as simulation and cryptography](https://en.wikipedia.org/wiki/Random_number_generation) and other areas where unpredictable results are necessary, for example, lottery-gaming, draws, slot machines and gambling in general. \n",
    "\n",
    "[numpy.random](https://docs.scipy.org/doc/numpy-1.15.1/reference/routines.random.html) is a submodule of the NumPy package that is used to generate random (or indeed, pseudorandom) numbers, using  an algorithm called the [Mersenne Twister](https://en.wikipedia.org/wiki/Mersenne_Twister), a pseudorandom number generator (PRNG).  This means that numpy.random can provide numbers that appear to be unpredicted and indetermined, but that it actually does not generate numbers that are random in the *truest* sense of the term, rather it's sequence is based on random seed generation, which I'll discuss later in this assignment. \n",
    "\n"
   ]
  },
  {
   "cell_type": "markdown",
   "metadata": {},
   "source": [
    "## Simple random data\n",
    "I decided to try out the various functions that are part of the numpy.random submodule to see if running and testing them could help me to understand what each of them does. The first function in the list is random.rand, which according to the NumPy manual will [create an array of the given shape and populate it with random samples](https://docs.scipy.org/doc/numpy-1.15.1/reference/generated/numpy.random.rand.html#numpy.random.rand) from a uniform distribution over [0,1)] I understand this to mean that this function will display an array (which is almost like a table or database, consisting of rows and columns) of floats based on arguments provided by the user to determine the dimensions of the array, but that the content will consist of floats that range between 0 to 0.99 (i.e. up to but not including 1), in a [uniform distribution](https://www.investopedia.com/terms/u/uniform-distribution.asp) (which means that the probability of all outcomes have exactly the same possibility of happening). "
   ]
  },
  {
   "cell_type": "code",
   "execution_count": 1,
   "metadata": {},
   "outputs": [
    {
     "data": {
      "text/plain": [
       "array([[0.99008575, 0.58945044, 0.51110391],\n",
       "       [0.44520501, 0.11830076, 0.13695848],\n",
       "       [0.87743011, 0.83914703, 0.55021243],\n",
       "       [0.50564006, 0.54577821, 0.04276217]])"
      ]
     },
     "execution_count": 1,
     "metadata": {},
     "output_type": "execute_result"
    }
   ],
   "source": [
    "import numpy as np\n",
    "np.random.rand(4,3)"
   ]
  },
  {
   "cell_type": "markdown",
   "metadata": {},
   "source": [
    "I can see from the above that an array of 4 rows and 3 columns has been printed, all with randomly selected numbers that actally range from 0 to 0.99999999 (8 decimal places - floating point??)\n",
    "\n",
    "While reading numpy.random online I found a [blog post](http://www.learningaboutelectronics.com/Articles/How-to-create-an-array-of-random-integers-in-Python-with-numpy.php) that gave an introduction to the submodule and then detailed how to create an array of 5 random integers between 1 and 100:"
   ]
  },
  {
   "cell_type": "code",
   "execution_count": 8,
   "metadata": {},
   "outputs": [
    {
     "data": {
      "text/plain": [
       "array([20,  5, 16, 33, 88])"
      ]
     },
     "execution_count": 8,
     "metadata": {},
     "output_type": "execute_result"
    }
   ],
   "source": [
    "import numpy as np\n",
    "#creates an array of 5 random integers from 1 too 100\n",
    "np.random.randint(1,101,5)"
   ]
  },
  {
   "cell_type": "markdown",
   "metadata": {},
   "source": [
    "I noticed that the arguments passed through this function were 1 and 101, not 100, as this command follows standard Python practice of indexing from 0.\n",
    "Using this blog's suggested array as a basis for further testing, I listed through the rest of the commands in the Simple Random Data *category* as follows:"
   ]
  },
  {
   "cell_type": "code",
   "execution_count": 11,
   "metadata": {},
   "outputs": [
    {
     "data": {
      "text/plain": [
       "array([[[ 1.86860234e+00,  9.94621902e-01, -1.12737410e+00,\n",
       "          4.30556595e-01,  3.18414783e-02],\n",
       "        [ 1.88930681e+00,  2.69561689e-03, -5.90648825e-01,\n",
       "          9.34877364e-01,  1.28549737e+00],\n",
       "        [ 2.51260012e-01,  6.70226164e-02, -8.40802230e-01,\n",
       "          1.49711191e+00,  3.79994052e-01],\n",
       "        [-1.66223999e+00,  7.13969310e-01, -2.51210110e-01,\n",
       "          2.41925852e-01, -3.87361910e-01],\n",
       "        [-1.37010410e+00,  1.60473304e+00, -5.31051243e-01,\n",
       "          7.63229590e-03,  2.87968633e+00],\n",
       "        [ 9.62038800e-01,  2.20390979e-01, -1.01468596e-01,\n",
       "          8.86600404e-01, -6.84371643e-01],\n",
       "        [ 1.98620875e+00,  1.26771846e+00,  1.06732545e+00,\n",
       "         -1.48333728e+00, -6.68933066e-01],\n",
       "        [-8.57397852e-01, -2.16134406e+00,  1.39135261e+00,\n",
       "          3.99033879e-01,  4.80061674e-01],\n",
       "        [ 1.29822823e+00, -2.25157485e-01,  1.36297763e+00,\n",
       "         -5.48886266e-01,  6.49374572e-01],\n",
       "        [-7.95434003e-01,  7.11245868e-01,  1.80257365e-01,\n",
       "          4.22808309e-01,  1.45530926e+00],\n",
       "        [ 3.95725667e-01,  7.47845865e-01,  4.18332993e-01,\n",
       "          3.04457631e-01, -6.65854753e-01],\n",
       "        [-1.34028085e+00,  2.16318863e-01,  4.98343078e-02,\n",
       "         -2.06269043e+00,  1.11119097e+00],\n",
       "        [-1.56573802e-01, -2.35296027e+00,  5.80039046e-01,\n",
       "          3.06372314e-01, -7.78051015e-01],\n",
       "        [-8.23480221e-02,  1.16165304e+00, -1.49511858e+00,\n",
       "          1.24227540e+00, -5.10193396e-01],\n",
       "        [ 2.06202950e-01, -1.03747073e-01, -6.51516567e-01,\n",
       "          6.06807636e-01, -7.34661833e-02],\n",
       "        [-2.95695607e-01,  5.45164365e-01, -1.18336322e+00,\n",
       "         -4.86412645e-01, -8.27804005e-01],\n",
       "        [-4.71559766e-02, -5.40938972e-01,  5.63054503e-01,\n",
       "         -2.50680566e-01, -8.14264057e-01],\n",
       "        [-1.28294454e+00, -1.88906677e-01,  5.26160493e-01,\n",
       "          1.09977901e+00, -8.39526295e-02],\n",
       "        [-2.24506743e-01,  1.86977158e-01, -3.16309563e-01,\n",
       "         -1.89866801e+00,  2.07334066e-01],\n",
       "        [ 7.90608963e-01, -3.94414989e-01, -2.92925286e-01,\n",
       "          1.08187634e+00,  1.11088852e+00],\n",
       "        [ 8.15918774e-01,  6.53584963e-01,  7.22608982e-01,\n",
       "         -3.80606872e-01,  1.84239817e-01],\n",
       "        [ 3.60889705e-01,  6.79531944e-01, -3.30440019e-01,\n",
       "         -9.13372722e-01,  9.89548414e-01],\n",
       "        [ 5.75624012e-01, -1.02920993e+00,  2.90508896e-01,\n",
       "         -2.41027705e+00, -4.76838142e-01],\n",
       "        [-3.87370466e-01,  3.65668143e-01,  5.42263152e-01,\n",
       "         -7.63621328e-01,  9.61873146e-01],\n",
       "        [ 1.04322190e+00, -3.10902373e-01,  7.25173000e-01,\n",
       "         -3.75723799e-02,  1.12496690e+00],\n",
       "        [-1.46732214e-01, -6.63633796e-01, -6.66090303e-02,\n",
       "         -8.75345993e-01, -5.79960355e-01],\n",
       "        [ 1.17192396e+00, -4.13457777e-01, -6.42802973e-01,\n",
       "         -1.19122219e+00,  9.66065235e-01],\n",
       "        [ 2.32603218e+00,  9.75710883e-01, -2.28479670e+00,\n",
       "         -1.20291615e+00, -4.63817987e-01],\n",
       "        [ 1.42939992e+00,  4.96275132e-01, -2.23948431e-01,\n",
       "          9.06561194e-01, -1.68953772e+00],\n",
       "        [-1.10140545e+00,  3.44403941e-01, -4.90886602e-01,\n",
       "         -2.22772726e-01,  1.94328932e+00],\n",
       "        [ 4.67920242e-01,  7.54287045e-01,  1.69496616e+00,\n",
       "          2.85559906e-01,  1.62830586e+00],\n",
       "        [-2.39158870e-01, -2.54648765e-01,  8.11369104e-01,\n",
       "          7.32093763e-01, -8.96440973e-01],\n",
       "        [ 8.44687023e-02,  5.51796860e-01,  1.30531239e+00,\n",
       "          1.17343040e-02,  9.66719858e-01],\n",
       "        [ 2.89399803e-01,  4.47550413e-01, -4.15123528e-01,\n",
       "         -1.53027677e+00, -1.05457076e+00],\n",
       "        [ 3.98093322e-02,  2.95826929e-01, -2.88626794e-02,\n",
       "         -1.94688512e+00,  1.47739844e+00],\n",
       "        [ 2.29574139e+00,  3.26090995e-01, -2.19419327e+00,\n",
       "          6.69441238e-01, -1.24402515e-01],\n",
       "        [-1.59511056e-01, -2.33175871e-01, -1.17328241e+00,\n",
       "         -9.87334457e-02, -1.60063209e+00],\n",
       "        [ 2.32601446e-01,  1.33903478e+00,  2.76013652e-01,\n",
       "         -6.19223848e-01,  1.33952008e+00],\n",
       "        [-2.88830748e-03,  1.25611817e+00, -7.29161870e-02,\n",
       "          5.85323779e-01,  3.95422466e-02],\n",
       "        [-2.09884860e+00, -1.66259103e+00,  6.93632954e-01,\n",
       "         -1.46193497e+00, -1.29480101e+00],\n",
       "        [-1.52328007e+00,  1.02170733e+00,  7.80168130e-01,\n",
       "         -1.08570889e+00, -2.91807699e-01],\n",
       "        [-4.90178259e-01, -4.79797952e-02,  3.92700791e-02,\n",
       "         -4.75366942e-01,  1.46675073e+00],\n",
       "        [-3.58924512e-01,  9.30373088e-01, -6.74776759e-01,\n",
       "          9.70326690e-01,  5.35241488e-01],\n",
       "        [-1.40445190e+00, -2.22597008e-01,  2.38174025e+00,\n",
       "          5.74062960e-01,  8.32957603e-01],\n",
       "        [ 3.17769494e-02,  2.83261039e-01,  1.75936144e-03,\n",
       "         -3.56068935e-01,  1.27807484e+00],\n",
       "        [ 1.98406820e+00, -2.33353822e+00, -5.60889760e-01,\n",
       "          6.98332067e-01,  8.81675955e-01],\n",
       "        [-1.88542025e-01,  2.81510291e-01, -1.76543600e+00,\n",
       "          2.85764285e-01,  5.20221219e-01],\n",
       "        [ 6.41306245e-01, -6.70359616e-01,  1.11142189e+00,\n",
       "          1.18924279e+00, -1.31531686e-01],\n",
       "        [-3.08441685e+00,  2.67670676e+00,  4.56969950e-01,\n",
       "          2.61985439e-01, -5.76010082e-01],\n",
       "        [ 6.51299801e-01, -4.89344056e-01, -1.42240491e+00,\n",
       "          3.24077330e-01, -4.47864825e-01],\n",
       "        [ 3.87621616e-01,  1.41438760e+00,  5.04525927e-02,\n",
       "          2.48103701e+00,  4.22055881e-01],\n",
       "        [ 6.25239845e-01, -1.99445095e-01, -6.91008038e-01,\n",
       "          4.76550475e-01, -4.17645392e-01],\n",
       "        [-1.50561975e+00,  7.13950178e-01,  2.58772921e-01,\n",
       "         -4.17528116e-01, -3.87602459e-02],\n",
       "        [ 5.93243542e-01, -8.15148902e-02,  7.80005795e-01,\n",
       "          2.74767509e+00,  3.68806962e-01],\n",
       "        [-6.52005328e-01, -8.82818450e-01, -1.99650707e-01,\n",
       "          8.65192286e-01,  3.35609616e-01],\n",
       "        [ 2.68810349e-02,  1.33249161e+00,  7.71846171e-02,\n",
       "         -3.33493791e-01, -1.56871195e-02],\n",
       "        [ 8.20750995e-01,  1.77666607e+00, -1.50088331e+00,\n",
       "          3.74517291e-01, -7.01853486e-01],\n",
       "        [-5.35529088e-01,  1.35756565e+00,  1.13131504e+00,\n",
       "         -1.21576268e+00, -2.02051230e+00],\n",
       "        [ 4.73824996e-01,  2.27136113e-01, -3.30907824e-01,\n",
       "          1.12865444e+00, -4.05182914e-01],\n",
       "        [ 8.57856009e-01,  7.58566352e-01,  9.39456289e-01,\n",
       "         -1.16312732e+00,  1.06681839e+00],\n",
       "        [-1.00601783e+00, -5.20545484e-02,  9.84786490e-01,\n",
       "         -4.55073057e-01, -3.58769604e-02],\n",
       "        [ 4.73548907e-01,  1.83340632e-01, -4.81348516e-01,\n",
       "         -1.36069700e-01,  1.91378868e+00],\n",
       "        [-3.70998354e+00,  6.76196283e-01,  2.69103120e-01,\n",
       "         -1.79289736e+00,  8.54457490e-01],\n",
       "        [-2.65809510e-01,  7.03856692e-01, -5.32989914e-01,\n",
       "          6.09254173e-01,  2.78779491e-01],\n",
       "        [ 7.76153311e-01,  2.69398954e-01, -1.43841487e+00,\n",
       "          4.03469910e-01,  1.83361128e+00],\n",
       "        [-9.77877690e-01, -5.42605364e-01,  1.90760254e+00,\n",
       "         -6.02689081e-01, -7.73987673e-01],\n",
       "        [ 7.20072993e-02, -1.89814721e-01,  9.06414260e-01,\n",
       "         -1.43781442e+00, -7.49549737e-01],\n",
       "        [ 1.22525560e+00, -9.46710558e-01,  6.40427884e-01,\n",
       "         -2.18181278e-02, -7.15908335e-01],\n",
       "        [ 8.68280757e-01,  1.15185216e+00,  3.81400693e-01,\n",
       "         -1.72809636e+00, -3.91020553e-01],\n",
       "        [ 1.08057274e+00, -1.90872842e-01, -5.40219253e-01,\n",
       "         -2.66612048e-01, -9.23053368e-01],\n",
       "        [-2.44149676e+00,  1.58416742e-01, -2.30459026e-01,\n",
       "          1.69676442e+00, -1.06540482e+00],\n",
       "        [-4.19283369e-01,  6.11014617e-01, -7.29377670e-02,\n",
       "          8.52082093e-01,  6.48894040e-01],\n",
       "        [ 1.77978336e+00, -2.68879586e-02,  5.23268123e-01,\n",
       "         -1.62003915e-01, -8.50339960e-01],\n",
       "        [ 6.03351342e-01, -5.19985051e-01, -7.96235554e-01,\n",
       "          8.44551877e-01, -1.57242327e+00],\n",
       "        [ 4.66685608e-03,  2.52493053e+00, -1.12339770e-01,\n",
       "          2.49996912e+00, -1.06485451e+00],\n",
       "        [-9.17397433e-01, -7.86777668e-01,  4.51961960e-01,\n",
       "          6.79333778e-01,  6.55641284e-01],\n",
       "        [ 6.71729294e-01, -6.48267201e-01, -5.64543969e-02,\n",
       "         -5.20332296e-01,  4.29355178e-01],\n",
       "        [ 7.49134631e-01, -3.83646081e-01,  5.44759291e-01,\n",
       "         -7.37331217e-01, -6.95708833e-01],\n",
       "        [-2.91051377e-01,  4.91645900e-01, -2.83022696e-01,\n",
       "          7.43884178e-01,  8.63838998e-01],\n",
       "        [ 4.31815092e-01, -1.38109596e+00, -3.63399841e-01,\n",
       "         -3.92106198e-01,  7.53418664e-01],\n",
       "        [-1.02592984e-01, -4.54238146e-01,  8.72682155e-01,\n",
       "          1.04535223e+00,  1.02212839e+00],\n",
       "        [ 1.13930187e+00, -3.29528199e-01, -2.78343088e+00,\n",
       "          1.89166247e-01, -1.27949253e+00],\n",
       "        [ 3.34311500e-01, -8.51569028e-01,  1.37753999e+00,\n",
       "         -3.00272839e-01, -1.72260798e+00],\n",
       "        [ 1.39328025e+00, -1.31102581e+00, -6.55994343e-01,\n",
       "          1.43269842e+00,  7.48990175e-01],\n",
       "        [ 1.02994332e+00,  1.43904728e-01, -1.08753557e+00,\n",
       "         -7.17759921e-01,  5.83298957e-01],\n",
       "        [-6.37434154e-01,  1.38599693e+00, -1.60596666e-01,\n",
       "          2.19354907e+00, -3.36333958e-01],\n",
       "        [-1.53388456e+00,  2.40015619e-01,  2.34789701e+00,\n",
       "         -7.35984111e-01,  3.54107853e-01],\n",
       "        [-1.01290266e+00,  2.39712125e-01,  1.99339128e+00,\n",
       "         -9.69518315e-01,  1.41681213e-01],\n",
       "        [-6.10312170e-01, -7.07231400e-01,  1.58885818e+00,\n",
       "         -8.77801048e-01, -8.10586034e-01],\n",
       "        [ 4.03407709e-01, -3.24981232e-01,  2.07345446e-01,\n",
       "          5.40898999e-01, -2.74998797e-01],\n",
       "        [-2.17902154e-02, -5.70650161e-01,  1.90859712e-01,\n",
       "         -3.28953086e-01, -1.18460677e+00],\n",
       "        [-5.12301914e-01,  1.05977905e-01,  4.42415434e-01,\n",
       "          1.97766639e+00,  1.44482390e+00],\n",
       "        [ 2.55845426e-01, -1.44355584e-01, -2.32091698e+00,\n",
       "          1.40025684e+00,  6.08799710e-01],\n",
       "        [ 9.60605004e-02,  6.07051064e-01,  1.54834758e+00,\n",
       "         -5.66632425e-01,  2.12156808e-01],\n",
       "        [ 1.74923330e+00, -1.32943245e+00,  7.35935433e-01,\n",
       "         -2.13195107e-01,  1.11614429e+00],\n",
       "        [ 2.98769261e-01, -8.47712489e-01, -5.18603787e-02,\n",
       "         -2.73669715e+00, -1.00123176e+00],\n",
       "        [ 1.30831827e-01,  3.21847708e-01, -7.96525284e-01,\n",
       "         -1.06161806e+00, -3.48033479e-02],\n",
       "        [ 4.06521897e-03, -1.20810795e+00, -7.42295290e-01,\n",
       "          1.62399204e-01,  9.08584031e-02],\n",
       "        [ 1.07131320e+00, -2.10277480e+00, -5.61083595e-01,\n",
       "          1.06165839e-01,  1.21325234e-01],\n",
       "        [ 9.74672429e-01, -1.12844315e+00,  1.81808371e+00,\n",
       "          1.51321684e+00,  1.16810525e+00],\n",
       "        [-3.59790874e-01,  1.04262139e+00, -1.03494135e+00,\n",
       "          1.16492838e+00,  1.64719265e+00]]])"
      ]
     },
     "execution_count": 11,
     "metadata": {},
     "output_type": "execute_result"
    }
   ],
   "source": [
    "np.random.randn(1,101,5)\n",
    "\n",
    "#the function np.random.integers has been deprecated and replaced with the above np.random.randint"
   ]
  },
  {
   "cell_type": "markdown",
   "metadata": {},
   "source": [
    "## Permutations\n",
    "The Permutations functions of numpy.random are [shuffle(x)](https://docs.scipy.org/doc/numpy-1.15.0/reference/generated/numpy.random.shuffle.html) and [permutation(x)](https://docs.scipy.org/doc/numpy-1.15.0/reference/generated/numpy.random.permutation.html#numpy.random.permutation).  \n",
    "\n",
    "Both of these functions relate to re-arranging provided random data. The shuffle(x) function shuffles data on the first axis of a multi-dimensional array, where the order of sub-arrays is changed but the contents remain the same:\n"
   ]
  },
  {
   "cell_type": "markdown",
   "metadata": {},
   "source": [
    "### Multi Dimensional Array"
   ]
  },
  {
   "cell_type": "code",
   "execution_count": 4,
   "metadata": {},
   "outputs": [
    {
     "data": {
      "text/plain": [
       "array([[4, 5, 6],\n",
       "       [1, 2, 3],\n",
       "       [7, 8, 9]])"
      ]
     },
     "execution_count": 4,
     "metadata": {},
     "output_type": "execute_result"
    }
   ],
   "source": [
    "#example from https://www.science-emergence.com/Articles/How-to-randomly-shuffle-an-array-in-python-using-numpy/ \n",
    "import numpy as np\n",
    "M = np.array([[1,2,3],[4,5,6],[7,8,9]])\n",
    "np.random.shuffle(M)\n",
    "M"
   ]
  },
  {
   "cell_type": "markdown",
   "metadata": {},
   "source": [
    "As you can see above, the sequence that the sets are displayed in has been shuffled, but the numbers inside the brackets have remained in the same order they were originally written in.\n",
    "\n",
    "### 1 Dimensional Array\n",
    "With an array that is 1 Dimensional, the shuffle(x) function "
   ]
  },
  {
   "cell_type": "code",
   "execution_count": 5,
   "metadata": {},
   "outputs": [
    {
     "data": {
      "text/plain": [
       "array([ 4, 15, 42,  8, 23, 16])"
      ]
     },
     "execution_count": 5,
     "metadata": {},
     "output_type": "execute_result"
    }
   ],
   "source": [
    "#example from https://www.science-emergence.com/Articles/How-to-randomly-shuffle-an-array-in-python-using-numpy/ \n",
    "import numpy as np\n",
    "M = np.array([4,8,15,16,23,42])\n",
    "np.random.shuffle(M)\n",
    "M"
   ]
  },
  {
   "cell_type": "markdown",
   "metadata": {},
   "source": [
    "As you can see above, the sequence that the sets are displayed in has been shuffled, but the contents inside the brackets have remained in the same order.\n",
    "\n",
    "The permutation(x) function however, when given an array, takes a copy and shuffles the elements randomly. "
   ]
  },
  {
   "cell_type": "code",
   "execution_count": 6,
   "metadata": {},
   "outputs": [
    {
     "data": {
      "text/plain": [
       "array([ 9, 12,  4, 15,  1])"
      ]
     },
     "execution_count": 6,
     "metadata": {},
     "output_type": "execute_result"
    }
   ],
   "source": [
    "#example using an array from https://www.w3cschool.cn/doc_numpy_1_10/numpy_1_10-generated-numpy-random-permutation.html\n",
    "import numpy as np\n",
    "array = np.random.permutation([1, 4, 9, 12, 15])\n",
    "array"
   ]
  },
  {
   "cell_type": "markdown",
   "metadata": {},
   "source": [
    "In the case of an integer, the permutation function randomly permutes it's range:"
   ]
  },
  {
   "cell_type": "code",
   "execution_count": 7,
   "metadata": {},
   "outputs": [
    {
     "data": {
      "text/plain": [
       "array([0, 5, 1, 7, 6, 3, 2, 4])"
      ]
     },
     "execution_count": 7,
     "metadata": {},
     "output_type": "execute_result"
    }
   ],
   "source": [
    "#example using an integer \n",
    "import numpy as np\n",
    "integer = np.random.permutation(8)\n",
    "integer"
   ]
  },
  {
   "cell_type": "code",
   "execution_count": null,
   "metadata": {},
   "outputs": [],
   "source": []
  }
 ],
 "metadata": {
  "kernelspec": {
   "display_name": "Python 3",
   "language": "python",
   "name": "python3"
  },
  "language_info": {
   "codemirror_mode": {
    "name": "ipython",
    "version": 3
   },
   "file_extension": ".py",
   "mimetype": "text/x-python",
   "name": "python",
   "nbconvert_exporter": "python",
   "pygments_lexer": "ipython3",
   "version": "3.6.6"
  }
 },
 "nbformat": 4,
 "nbformat_minor": 2
}
