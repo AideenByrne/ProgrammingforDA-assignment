{
 "cells": [
  {
   "cell_type": "markdown",
   "metadata": {},
   "source": [
    "## Exploring the numpy.random package"
   ]
  },
  {
   "cell_type": "markdown",
   "metadata": {},
   "source": [
    "Randomly generated data is important in [various kinds of statistical research as well as aspects of computer science such as simulation and cryptography](https://en.wikipedia.org/wiki/Random_number_generation) and other areas where unpredictable results are necessary, for example, lottery-gaming, draws and slot machines. In the case of statistical research, such as surveys that are based on a representative sample of a population (where it would not be feasible to survey an entire nation, for example) a [probability sampling method](https://www.statisticshowto.datasciencecentral.com/probability-sampling/) can be designed to ensure that each member of a specific population has a known and equal chance of being included in a random sample.  Random sampling provides an unbiased interpretation of results. Random sampling is an essential element of computer science in general - for example, according to Dr Mads Haahr of www.random.org [\"generating data encryption keys, simulating and modeling complex phenomena and for selecting random samples from larger data sets\"](https://www.random.org/randomness/). According to Jason Brownlee in his [Machine Learning Mastery blog](https://machinelearningmastery.com/how-to-generate-random-numbers-in-python/) \"the use of randomness is an important part of the configuration and evaluation of machine learning algorithms. From the random initialization of weights in an artificial neural network, to the splitting of data into random train and test sets, to the random shuffling of a training dataset in stochastic gradient descent, generating random numbers and harnessing randomness is a required skill\".  \n",
    "\n",
    "![numpy.jpg](numpy.jpg)\n",
    "[NumPy](http://www.numpy.org/) (which stands for Numerical Python) is a library for the Python programming language, that adds support for huge multi-dimensional arrays and matrices of numbers. It also provides a large collection of high-level mathematical functions to operate on these arrays, and executes much faster than standard Python for this. It is an open source project and free to import, generally labelled in Python code as \"np\". It is part of the [SciPy](https://scipy.org/) ecosystem for Python, which also includes such libraries as pandas and matplotlib.\n",
    "\n",
    "\n",
    "## numpy.random\n",
    "[numpy.random](https://docs.scipy.org/doc/numpy-1.15.1/reference/routines.random.html) is a submodule of the NumPy package that is used to generate random (or indeed, pseudorandom) numbers, using  an algorithm called the [Mersenne Twister](https://en.wikipedia.org/wiki/Mersenne_Twister), a pseudorandom number generator (PRNG).  This means that numpy.random can provide numbers that appear to be unpredictable and undetermined, but it actually does not generate numbers that are random in the *truest* sense of the term; rather it's sequence is based on random seed generation, which I'll discuss later in this assignment.  Python itself also utilises this PRNG in it's own [random](https://docs.python.org/3/library/random.html) module but numpy.random allows for randomly generated [ndarrays](https://docs.scipy.org/doc/numpy-1.15.0/reference/generated/numpy.ndarray.html), which means more powerful randomly generated data structures can be derived in a more efficient way using numpy.random. It also provides \"convenience functions\" which are essentially wrappers that the user can select for generation of floats, integers or with a specific distribution (e.g the [randn](https://docs.scipy.org/doc/numpy-1.15.1/reference/generated/numpy.random.randn.html#numpy.random.randn) function that returns a sample from the standard normal distribution. "
   ]
  },
  {
   "cell_type": "markdown",
   "metadata": {},
   "source": [
    "## Random sampling (numpy.random)\n",
    "\n",
    "### Simple random data\n",
    "\n",
    "There are 10 functions available in the Simple Random Data section of the numpy.random submodule.  As I read through the documentation for these, I noticed that most of them offer random data in particular distributions - either or uniform (discrete or continuous) or normal / \"Gaussian\" which demonstrate the probability of the occurence and frequency of each individual value.\n",
    "\n",
    "### Uniform\n",
    "The **rand** and **choice** functions generate random data from a uniform distribution.  This [\"refers to a probability distribution for which all of the values that a random variable can take on occur with equal probability\"](https://stattrek.com/statistics/dictionary.aspx?definition=uniform_distribution). When random data from these functions are plotted, they take the shape of a uniform spread across a graph with no distinct peaks:\n",
    "\n",
    "![uniform-histogram.jpg](uniform-histogram.jpg)\n",
    "https://www.mathbootcamps.com/common-shapes-of-distributions/ \n",
    "\n",
    "I decided to try this out for myself - "
   ]
  },
  {
   "cell_type": "code",
   "execution_count": 5,
   "metadata": {},
   "outputs": [
    {
     "data": {
      "text/plain": [
       "([array([1., 0., 1., 0., 0., 0., 0., 1., 1., 0.]),\n",
       "  array([0., 0., 1., 1., 0., 1., 0., 0., 1., 0.]),\n",
       "  array([1., 0., 1., 0., 0., 0., 1., 0., 0., 1.])],\n",
       " array([0.13618489, 0.21660389, 0.29702289, 0.3774419 , 0.4578609 ,\n",
       "        0.5382799 , 0.61869891, 0.69911791, 0.77953691, 0.85995592,\n",
       "        0.94037492]),\n",
       " <a list of 3 Lists of Patches objects>)"
      ]
     },
     "execution_count": 5,
     "metadata": {},
     "output_type": "execute_result"
    },
    {
     "data": {
      "image/png": "[encoded data removed]",
      "text/plain": [
       "<Figure size 432x288 with 1 Axes>"
      ]
     },
     "metadata": {
      "needs_background": "light"
     },
     "output_type": "display_data"
    }
   ],
   "source": [
    "import numpy as np\n",
    "import matplotlib.pyplot as plt\n",
    "x = np.random.rand(4,3)\n",
    "plt.hist(x)"
   ]
  },
  {
   "cell_type": "markdown",
   "metadata": {},
   "source": [
    "I can see from the above that an array of 4 rows and 3 columns has been created, all with randomly selected values that range from 0 to 0.99999999.  "
   ]
  },
  {
   "cell_type": "code",
   "execution_count": 6,
   "metadata": {},
   "outputs": [
    {
     "data": {
      "text/plain": [
       "(array([1., 0., 0., 0., 0., 0., 0., 0., 0., 2.]),\n",
       " array([2. , 2.1, 2.2, 2.3, 2.4, 2.5, 2.6, 2.7, 2.8, 2.9, 3. ]),\n",
       " <a list of 10 Patch objects>)"
      ]
     },
     "execution_count": 6,
     "metadata": {},
     "output_type": "execute_result"
    },
    {
     "data": {
      "image/png": "[encoded data removed]",
      "text/plain": [
       "<Figure size 432x288 with 1 Axes>"
      ]
     },
     "metadata": {
      "needs_background": "light"
     },
     "output_type": "display_data"
    }
   ],
   "source": [
    "z = np.random.choice(5, 3, p=[0.1, 0, 0.3, 0.6, 0])\n",
    "plt.hist(z)"
   ]
  },
  {
   "cell_type": "markdown",
   "metadata": {},
   "source": [
    "Whether a distribution is discrete or continuous uniform depends on what value the variable can take.  [If a variable can take on any value between two specified values, it is called a continuous variable; otherwise, it is called a discrete variable](https://stattrek.com/probability-distributions/discrete-continuous.aspx)\n",
    "\n"
   ]
  },
  {
   "cell_type": "code",
   "execution_count": 7,
   "metadata": {
    "scrolled": true
   },
   "outputs": [
    {
     "data": {
      "image/png": "[encoded data removed]",
      "text/plain": [
       "<Figure size 432x288 with 1 Axes>"
      ]
     },
     "metadata": {
      "needs_background": "light"
     },
     "output_type": "display_data"
    }
   ],
   "source": [
    "x = np.random.randint(2, size=10)\n",
    "import matplotlib.pyplot as plt\n",
    "plt.hist(x)\n",
    "plt.show()"
   ]
  },
  {
   "cell_type": "markdown",
   "metadata": {},
   "source": [
    "The above histogram shows the amount of times an array of 10 integers indexed from 0 to 1 (i.e. count of 2) has been generated. As the distribution of these is discrete uniform, each integer has an equal probability of being chosen in the 10 picks. \n",
    "\n",
    "I noticed from the [Numpy documentation page on numpy.random](https://docs.scipy.org/doc/numpy-1.15.1/reference/routines.random.html) that the next four functions (**random_sample**, **random**, **ranf**, and **sample** functions) all return random floats in the half open interval (again from 0.0 up to but not including 1.0) in the \"continuous uniform\" distribution.  \n",
    "\n",
    "![random.jpg](random.jpg)\n",
    "\n",
    "The random.sample function displays this as follows:"
   ]
  },
  {
   "cell_type": "code",
   "execution_count": 11,
   "metadata": {},
   "outputs": [
    {
     "data": {
      "text/plain": [
       "(array([1., 0., 0., 0., 0., 1., 1., 1., 0., 1.]),\n",
       " array([0.01084343, 0.05897879, 0.10711415, 0.1552495 , 0.20338486,\n",
       "        0.25152022, 0.29965557, 0.34779093, 0.39592628, 0.44406164,\n",
       "        0.492197  ]),\n",
       " <a list of 10 Patch objects>)"
      ]
     },
     "execution_count": 11,
     "metadata": {},
     "output_type": "execute_result"
    },
    {
     "data": {
      "image/png": "[encoded data removed]",
      "text/plain": [
       "<Figure size 432x288 with 1 Axes>"
      ]
     },
     "metadata": {
      "needs_background": "light"
     },
     "output_type": "display_data"
    }
   ],
   "source": [
    "y = np.random.random_sample((5,))\n",
    "plt.hist(y)"
   ]
  },
  {
   "cell_type": "markdown",
   "metadata": {},
   "source": [
    "### Normal or \"Gaussian\" distribution\n",
    "Following from this is the **randn()** function, that [generates an array filled with random floats sampled from a univariate “normal” (Gaussian) distribution of mean 0 and variance 1](https://docs.scipy.org/doc/numpy-1.15.1/reference/generated/numpy.random.randn.html#numpy.random.randn), which involved quite a bit of Gooling to try to understand! [Wikipedia](https://en.wikipedia.org/wiki/Normal_distribution) confirms that the Gaussian distribution is also know as \"normal\" distribution and \"the bell curve\".  I read [a post on stackoverflow.com](https://stackoverflow.com/questions/10138085/python-pylab-plot-normal-distribution) that suggested using [Seaborn](https://seaborn.pydata.org/) for plotting a graph that displays this so I tried it out."
   ]
  },
  {
   "cell_type": "code",
   "execution_count": 25,
   "metadata": {},
   "outputs": [
    {
     "name": "stderr",
     "output_type": "stream",
     "text": [
      "C:\\Users\\Aideen and Ken\\Anaconda3\\lib\\site-packages\\scipy\\stats\\stats.py:1713: FutureWarning: Using a non-tuple sequence for multidimensional indexing is deprecated; use `arr[tuple(seq)]` instead of `arr[seq]`. In the future this will be interpreted as an array index, `arr[np.array(seq)]`, which will result either in an error or a different result.\n",
      "  return np.add.reduce(sorted[indexer] * weights, axis=axis) / sumval\n"
     ]
    },
    {
     "data": {
      "text/plain": [
       "<matplotlib.axes._subplots.AxesSubplot at 0x22c1f52bd68>"
      ]
     },
     "execution_count": 25,
     "metadata": {},
     "output_type": "execute_result"
    },
    {
     "data": {
      "image/png": "[encoded data removed]",
      "text/plain": [
       "<Figure size 432x288 with 1 Axes>"
      ]
     },
     "metadata": {
      "needs_background": "light"
     },
     "output_type": "display_data"
    }
   ],
   "source": [
    "import seaborn as sns\n",
    "value = np.random.randn(100)\n",
    "sns.distplot(value)"
   ]
  },
  {
   "cell_type": "markdown",
   "metadata": {},
   "source": [
    "This graph displays a bell-shaped curve, centered at zero, which is typical of the normal distribution, as [the shape of the normal distribution is completely described by the mean and the standard deviation](https://stattrek.com/online-calculator/normal.aspx). "
   ]
  },
  {
   "cell_type": "code",
   "execution_count": 36,
   "metadata": {},
   "outputs": [
    {
     "data": {
      "text/plain": [
       "<function matplotlib.pyplot.show(*args, **kw)>"
      ]
     },
     "execution_count": 36,
     "metadata": {},
     "output_type": "execute_result"
    },
    {
     "data": {
      "image/png": "[encoded data removed]",
      "text/plain": [
       "<Figure size 432x288 with 1 Axes>"
      ]
     },
     "metadata": {
      "needs_background": "light"
     },
     "output_type": "display_data"
    }
   ],
   "source": [
    "%matplotlib inline \n",
    "y = 5 * np.random.random_sample((3, 2)) - 5\n",
    "plt.hist(y)\n",
    "plt.show"
   ]
  },
  {
   "cell_type": "markdown",
   "metadata": {},
   "source": []
  },
  {
   "cell_type": "markdown",
   "metadata": {},
   "source": [
    "## Permutations\n",
    "The Permutations functions of numpy.random are [shuffle(x)](https://docs.scipy.org/doc/numpy-1.15.0/reference/generated/numpy.random.shuffle.html) and [permutation(x)](https://docs.scipy.org/doc/numpy-1.15.0/reference/generated/numpy.random.permutation.html#numpy.random.permutation).  \n",
    "\n",
    "Both of these functions relate to re-arranging provided random data. The shuffle(x) function shuffles data on the first axis of a multi-dimensional array, where the order of sub-arrays is changed but the contents remain the same:\n",
    "\n",
    "\n",
    "https://en.wikipedia.org/wiki/Stochastic_gradient_descent"
   ]
  },
  {
   "cell_type": "markdown",
   "metadata": {},
   "source": [
    "### Multi Dimensional Array"
   ]
  },
  {
   "cell_type": "code",
   "execution_count": 7,
   "metadata": {},
   "outputs": [
    {
     "data": {
      "text/plain": [
       "array([[4, 5, 6],\n",
       "       [7, 8, 9],\n",
       "       [1, 2, 3]])"
      ]
     },
     "execution_count": 7,
     "metadata": {},
     "output_type": "execute_result"
    }
   ],
   "source": [
    "#example from https://www.science-emergence.com/Articles/How-to-randomly-shuffle-an-array-in-python-using-numpy/ \n",
    "import numpy as np\n",
    "M = np.array([[1,2,3],[4,5,6],[7,8,9]])\n",
    "np.random.shuffle(M)\n",
    "M"
   ]
  },
  {
   "cell_type": "markdown",
   "metadata": {},
   "source": [
    "As you can see above, the sequence that the sets are displayed in has been shuffled, but the numbers inside the brackets have remained in the same order they were originally written in.\n",
    "\n",
    "### 1 Dimensional Array\n",
    "With an array that is 1 Dimensional, the shuffle(x) function "
   ]
  },
  {
   "cell_type": "code",
   "execution_count": 8,
   "metadata": {},
   "outputs": [
    {
     "data": {
      "text/plain": [
       "array([15, 42,  4, 23, 16,  8])"
      ]
     },
     "execution_count": 8,
     "metadata": {},
     "output_type": "execute_result"
    }
   ],
   "source": [
    "#example from https://www.science-emergence.com/Articles/How-to-randomly-shuffle-an-array-in-python-using-numpy/ \n",
    "import numpy as np\n",
    "M = np.array([4,8,15,16,23,42])\n",
    "np.random.shuffle(M)\n",
    "M"
   ]
  },
  {
   "cell_type": "markdown",
   "metadata": {},
   "source": [
    "As you can see above, the sequence that the sets are displayed in has been shuffled, but the contents inside the brackets have remained in the same order.\n",
    "\n",
    "The permutation(x) function however, when given an array, takes a copy and shuffles the elements randomly. "
   ]
  },
  {
   "cell_type": "code",
   "execution_count": 9,
   "metadata": {},
   "outputs": [
    {
     "data": {
      "text/plain": [
       "array([ 1,  9,  4, 12, 15])"
      ]
     },
     "execution_count": 9,
     "metadata": {},
     "output_type": "execute_result"
    }
   ],
   "source": [
    "#example using an array from https://www.w3cschool.cn/doc_numpy_1_10/numpy_1_10-generated-numpy-random-permutation.html\n",
    "import numpy as np\n",
    "array = np.random.permutation([1, 4, 9, 12, 15])\n",
    "array"
   ]
  },
  {
   "cell_type": "markdown",
   "metadata": {},
   "source": [
    "In the case of an integer, the permutation function randomly permutes it's range:"
   ]
  },
  {
   "cell_type": "code",
   "execution_count": 10,
   "metadata": {},
   "outputs": [
    {
     "data": {
      "text/plain": [
       "array([0, 4, 5, 6, 1, 2, 3, 7])"
      ]
     },
     "execution_count": 10,
     "metadata": {},
     "output_type": "execute_result"
    }
   ],
   "source": [
    "#example using an integer \n",
    "import numpy as np\n",
    "integer = np.random.permutation(8)\n",
    "integer"
   ]
  },
  {
   "cell_type": "markdown",
   "metadata": {},
   "source": [
    "The reasons for shuffling or permuting data it seems is to \n",
    "\"It is good practice to randomly shuffle the training data before each training iteration. Even if your algorithm is not susceptible\"https://machinelearningmastery.com/randomness-in-machine-learning/"
   ]
  },
  {
   "cell_type": "markdown",
   "metadata": {},
   "source": [
    "## Distributions\n",
    "From a practical perspective, we can think of a distribution as a function that describes the relationship between observations in a sample space. (https://machinelearningmastery.com/statistical-data-distributions/) "
   ]
  },
  {
   "cell_type": "markdown",
   "metadata": {},
   "source": [
    "## Random Seed\n",
    "\n",
    "In programming, randomly generated numbers can be used to test and debug code, but it is important to have consistency in the tests, so for this reason, fixing the seed of the random module can help. (http://hplgit.github.io/scipro-primer/slides/random/html/random-reveal.html) https://stackoverflow.com/questions/5836335/consistently-create-same-random-numpy-array\n",
    "http://wwwcp.tphys.uni-heidelberg.de/Polymer/day2/random_numbers/p2.htm \n",
    "https://www.random.org/randomness/\n",
    "https://www.ibm.com/developerworks/library/s-playing/ "
   ]
  },
  {
   "cell_type": "markdown",
   "metadata": {},
   "source": [
    "## References\n",
    "1. [NumPy](http://www.numpy.org/)\n",
    "2. [SciPy](https://scipy.org/)\n",
    "3. [Random Number Generation](https://en.wikipedia.org/wiki/Random_number_generation)\n",
    "4. [Probability Sampling Method](https://www.statisticshowto.datasciencecentral.com/probability-sampling/)\n",
    "5. [How to Generate Random Numbers in Python](https://machinelearningmastery.com/how-to-generate-random-numbers-in-python/) \n",
    "6. [Numpy.random User Documentation](https://docs.scipy.org/doc/numpy-1.15.1/reference/routines.random.html)\n",
    "7. [Mersenne Twister](https://en.wikipedia.org/wiki/Mersenne_Twister)\n",
    "8. [Python random module](https://docs.python.org/3/library/random.html)\n",
    "9. [ndarrays](https://docs.scipy.org/doc/numpy-1.15.0/reference/generated/numpy.ndarray.html)\n",
    "10.\n"
   ]
  }
 ],
 "metadata": {
  "kernelspec": {
   "display_name": "Python 3",
   "language": "python",
   "name": "python3"
  },
  "language_info": {
   "codemirror_mode": {
    "name": "ipython",
    "version": 3
   },
   "file_extension": ".py",
   "mimetype": "text/x-python",
   "name": "python",
   "nbconvert_exporter": "python",
   "pygments_lexer": "ipython3",
   "version": "3.6.6"
  }
 },
 "nbformat": 4,
 "nbformat_minor": 2
}
