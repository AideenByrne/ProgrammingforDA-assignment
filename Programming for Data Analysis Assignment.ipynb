{
 "cells": [
  {
   "cell_type": "markdown",
   "metadata": {},
   "source": [
    "## Exploring the numpy.random package"
   ]
  },
  {
   "cell_type": "markdown",
   "metadata": {},
   "source": [
    "Randomly generated data is important in [various kinds of statistical research as well as aspects of computer science such as simulation and cryptography](https://en.wikipedia.org/wiki/Random_number_generation) and other areas where unpredictable results are necessary, for example, lottery-gaming, draws and slot machines. [Stochastic process](https://en.wikipedia.org/wiki/Stochastic_process), which is another term for collecting indexed random variables, has been used in the areas of finance, telecommunications and engineering, to name just a few.  One of the most well-known examples of this is the random walk, a mathematical object that [describes a path that consists of a succession of random steps on some mathematical space such as the integers](https://en.wikipedia.org/wiki/Random_walk), for instance, [the value of pi can be approximated by the usage of random walk in an agent-based modelling environment](https://www.geeksforgeeks.org/random-walk-implementation-python/).\n",
    "In the case of statistical research, such as surveys that are based on a representative sample of a population (where it would not be feasible to survey an entire nation, for example) a [probability sampling method](https://www.statisticshowto.datasciencecentral.com/probability-sampling/) can be designed to ensure that each member of a specific population has a known and equal chance of being included in a random sample.  Random sampling provides an unbiased interpretation of results. Random sampling is an essential element of computer science in general - for example, according to Dr Mads Haahr of www.random.org [\"generating data encryption keys, simulating and modeling complex phenomena and for selecting random samples from larger data sets\"](https://www.random.org/randomness/).  Jason Brownlee in his [Machine Learning Mastery blog](https://machinelearningmastery.com/how-to-generate-random-numbers-in-python/) confirms that \"the use of randomness is an important part of the configuration and evaluation of machine learning algorithms. From the random initialization of weights in an artificial neural network, to the splitting of data into random train and test sets, to the random shuffling of a training dataset in stochastic gradient descent, generating random numbers and harnessing randomness is a required skill\".  I read another very informative blog post on [Sampling Strategies for Recurrent Neural Networks](https://medium.com/machine-learning-at-petiteprogrammer/sampling-strategies-for-recurrent-neural-networks-9aea02a6616f) that delves into the prediction capabilities of these networks when primed with sufficient input that it becomes possible for them to output accurately using a probability distribution. \n",
    "\n",
    "![numpy.jpg](numpy.jpg)\n",
    "[NumPy](http://www.numpy.org/) (which stands for Numerical Python) is a library for the Python programming language, that adds support for huge multi-dimensional arrays and matrices of numbers. It also provides a large collection of high-level mathematical functions to operate on these arrays, and executes much faster than standard Python for this, as the random module in Python [only samples one value at a time](https://www.oreilly.com/library/view/python-for-data/9781449323592/ch04.html). It is an open source project and free to import, generally labelled in Python code as \"np\". It is part of the [SciPy](https://scipy.org/) ecosystem for Python, which also includes such libraries as pandas and matplotlib.\n",
    "\n",
    "\n",
    "## numpy.random\n",
    "[numpy.random](https://docs.scipy.org/doc/numpy-1.15.1/reference/routines.random.html) is a submodule of the NumPy package that is used to generate random (or indeed, pseudorandom) numbers, using  an algorithm called the [Mersenne Twister](https://en.wikipedia.org/wiki/Mersenne_Twister), a pseudorandom number generator (PRNG).  This means that numpy.random can provide numbers that appear to be unpredictable and undetermined, but it actually does not generate numbers that are random in the *truest* sense of the term; rather it's sequence is based on random seed generation, which I'll discuss later in this assignment.  Python itself also utilises this PRNG in it's own [random](https://docs.python.org/3/library/random.html) module but numpy.random allows for randomly generated [ndarrays](https://docs.scipy.org/doc/numpy-1.15.0/reference/generated/numpy.ndarray.html), which means more powerful randomly generated data structures can be derived in a more efficient way using numpy.random. It also provides \"convenience functions\" which are essentially wrappers that the user can select for generation of floats, integers or with a specific distribution (e.g the [randn](https://docs.scipy.org/doc/numpy-1.15.1/reference/generated/numpy.random.randn.html#numpy.random.randn) function that returns a sample from the standard normal distribution). "
   ]
  },
  {
   "cell_type": "markdown",
   "metadata": {},
   "source": [
    "## Random sampling (numpy.random)\n",
    "\n",
    "### Simple random data\n",
    "\n",
    "There are 10 functions available in the Simple Random Data section of the numpy.random submodule.  As I read through the documentation for these, I noticed that most of them offer random data in particular probability distributions - either or uniform (discrete or continuous) or normal / \"Gaussian\" which demonstrate the probability of the occurence and frequency of each random individual variable.  Whether a distribution is discrete or continuous uniform depends on what value the variable can take.  [A discrete distribution means that X can assume one of a countable (usually finite) number of values, while a continuous distribution means that X can assume one of an infinite (uncountable) number of different values](https://www.dummies.com/education/math/business-statistics/differentiate-between-discrete-and-continuous-probability-distributions/). \n",
    "\n",
    "#### Uniform\n",
    "The **rand** and **choice** functions generate random data from a uniform distribution.  This [\"refers to a probability distribution for which all of the values that a random variable can take on occur with equal probability\"](https://stattrek.com/statistics/dictionary.aspx?definition=uniform_distribution).  All possible outcomes are equally likely to occur. This distribution is continuous and when random data from these functions are plotted, they take a uniform shape, spread across a graph with no distinct peaks:\n",
    "\n",
    "![uniform.jpg](uniform.jpg)\n",
    "image from https://www.thoughtco.com/uniform-distribution-3126573\n",
    "\n",
    "I decided to try this out using the random.rand function."
   ]
  },
  {
   "cell_type": "code",
   "execution_count": 1,
   "metadata": {},
   "outputs": [
    {
     "data": {
      "text/plain": [
       "(array([461., 517., 489., 479., 502., 501., 502., 509., 529., 511.]),\n",
       " array([1.84051077e-04, 1.00141318e-01, 2.00098585e-01, 3.00055851e-01,\n",
       "        4.00013118e-01, 4.99970385e-01, 5.99927652e-01, 6.99884918e-01,\n",
       "        7.99842185e-01, 8.99799452e-01, 9.99756719e-01]),\n",
       " <a list of 10 Patch objects>)"
      ]
     },
     "execution_count": 1,
     "metadata": {},
     "output_type": "execute_result"
    }
   ],
   "source": [
    "import numpy as np #to import NumPy\n",
    "import matplotlib.pyplot as plt #to import Matplotlib\n",
    "import seaborn as sns #to import Seaborn\n",
    "x = np.random.rand(5000)#defines x as a NumPy array of 5000 random samples from a uniform distribution\n",
    "plt.hist(x)#plots these 5000 values as a histogram"
   ]
  },
  {
   "cell_type": "markdown",
   "metadata": {},
   "source": [
    "I can see from the above histogram that there are 10 bins detailing the frequency of 5000 occurrences of variables from 0.0 to 1.0 that have been generated randomly in an array by the **rand** function.\n",
    "The **randint** function differs in that it generates random integers and it outputs an array of a defined shape, in a low to high range."
   ]
  },
  {
   "cell_type": "code",
   "execution_count": 2,
   "metadata": {
    "scrolled": true
   },
   "outputs": [
    {
     "data": {
      "text/plain": [
       "(array([9., 0., 0., 0., 0., 0., 0., 0., 0., 1.]),\n",
       " array([0. , 0.1, 0.2, 0.3, 0.4, 0.5, 0.6, 0.7, 0.8, 0.9, 1. ]),\n",
       " <a list of 10 Patch objects>)"
      ]
     },
     "execution_count": 2,
     "metadata": {},
     "output_type": "execute_result"
    },
    {
     "data": {
      "image/png": "[encoded data removed]",
      "text/plain": [
       "<Figure size 432x288 with 1 Axes>"
      ]
     },
     "metadata": {
      "needs_background": "light"
     },
     "output_type": "display_data"
    }
   ],
   "source": [
    "x = np.random.randint(2, size=10)#defines x as an array of 1o random integers between 0 and 1\n",
    "plt.hist(x)"
   ]
  },
  {
   "cell_type": "markdown",
   "metadata": {},
   "source": [
    "The above histogram shows the amount of times an array of 10 integers indexed from 0 to 1 (i.e. count of 2) has been generated. As the distribution of these is discrete uniform, each integer has an equal probability of being chosen in the 10 picks. \n",
    "\n",
    "I noticed from the [Numpy documentation page on numpy.random](https://docs.scipy.org/doc/numpy-1.15.1/reference/routines.random.html) that the next four functions (**random_sample**, **random**, **ranf**, and **sample** functions) all return random floats in the half open interval (again from 0.0 up to but not including 1.0) in the \"continuous uniform\" distribution.  \n",
    "\n",
    "![random.jpg](random.jpg)\n",
    "\n",
    "I found some [sample code](https://www.geeksforgeeks.org/random-walk-implementation-python/) online that uses the **random_sample** function for a 1 dimensional random walk:"
   ]
  },
  {
   "cell_type": "code",
   "execution_count": 3,
   "metadata": {},
   "outputs": [
    {
     "data": {
      "image/png": "[encoded data removed]",
      "text/plain": [
       "<Figure size 432x288 with 1 Axes>"
      ]
     },
     "metadata": {
      "needs_background": "light"
     },
     "output_type": "display_data"
    }
   ],
   "source": [
    "# https://www.geeksforgeeks.org/random-walk-implementation-python/\n",
    "# Python code for 1-D random walk. \n",
    "\n",
    "# Probability to move up or down \n",
    "prob = [0.05, 0.95] \n",
    "\n",
    "# statically defining the starting position \n",
    "start = 2\n",
    "positions = [start] \n",
    "\n",
    "# creating the random points \n",
    "rr = np.random.random_sample(1000) \n",
    "downp = rr < prob[0] \n",
    "upp = rr > prob[1] \n",
    "\n",
    "\n",
    "for idownp, iupp in zip(downp, upp): \n",
    "\tdown = idownp and positions[-1] > 1\n",
    "\tup = iupp and positions[-1] < 4\n",
    "\tpositions.append(positions[-1] - down + up) \n",
    "\n",
    "# plotting down the graph of the random walk in 1D \n",
    "plt.plot(positions) \n",
    "plt.show() \n"
   ]
  },
  {
   "cell_type": "markdown",
   "metadata": {},
   "source": [
    "This demonstrates the continuous uniform distribution of the 1000 steps in the trajectory of the random walk.  "
   ]
  },
  {
   "cell_type": "markdown",
   "metadata": {},
   "source": [
    "Following from this is the **randn()** function, that [generates an array filled with random floats sampled from a univariate “normal” (Gaussian) distribution of mean 0 and variance 1](https://docs.scipy.org/doc/numpy-1.15.1/reference/generated/numpy.random.randn.html#numpy.random.randn), which involved quite a bit of Gooling to try to understand! [Wikipedia](https://en.wikipedia.org/wiki/Normal_distribution) confirms that the Gaussian distribution is also know as \"normal\" distribution and \"the bell curve\". With this the majority of the data falls in the middle of the distribution, as when the random sample size is large enough, they become normally distributed. I read [a post on stackoverflow.com](https://stackoverflow.com/questions/10138085/python-pylab-plot-normal-distribution) that suggested using [Seaborn](https://seaborn.pydata.org/) for plotting a graph that displays this so I tried it out."
   ]
  },
  {
   "cell_type": "code",
   "execution_count": 4,
   "metadata": {},
   "outputs": [
    {
     "name": "stderr",
     "output_type": "stream",
     "text": [
      "C:\\Users\\Aideen and Ken\\Anaconda3\\lib\\site-packages\\scipy\\stats\\stats.py:1713: FutureWarning: Using a non-tuple sequence for multidimensional indexing is deprecated; use `arr[tuple(seq)]` instead of `arr[seq]`. In the future this will be interpreted as an array index, `arr[np.array(seq)]`, which will result either in an error or a different result.\n",
      "  return np.add.reduce(sorted[indexer] * weights, axis=axis) / sumval\n"
     ]
    },
    {
     "data": {
      "text/plain": [
       "<matplotlib.axes._subplots.AxesSubplot at 0x21aa70f60f0>"
      ]
     },
     "execution_count": 4,
     "metadata": {},
     "output_type": "execute_result"
    },
    {
     "data": {
      "image/png": "[encoded data removed]",
      "text/plain": [
       "<Figure size 432x288 with 1 Axes>"
      ]
     },
     "metadata": {
      "needs_background": "light"
     },
     "output_type": "display_data"
    }
   ],
   "source": [
    "value1 = np.random.randn(100000)#defines value1 as an array of 100000 random floats from a normal distribution \n",
    "sns.distplot(value1)#plots value1 as a distplot"
   ]
  },
  {
   "cell_type": "markdown",
   "metadata": {},
   "source": [
    "This graph displays a bell-shaped curve, centered at zero, which is typical of the normal distribution, as [the shape of the normal distribution is completely described by the mean and the standard deviation](https://stattrek.com/online-calculator/normal.aspx). "
   ]
  },
  {
   "cell_type": "markdown",
   "metadata": {},
   "source": [
    "## Permutations\n",
    "The Permutations functions of numpy.random are [shuffle(x)](https://docs.scipy.org/doc/numpy-1.15.0/reference/generated/numpy.random.shuffle.html) and [permutation(x)](https://docs.scipy.org/doc/numpy-1.15.0/reference/generated/numpy.random.permutation.html#numpy.random.permutation).  \n",
    "\n",
    "Both of these functions relate to re-arranging provided random data. The shuffle(x) function shuffles data on the first axis of a multi-dimensional array, where the order of sub-arrays is changed but the contents remain the same.  The permutation(x) function however, when given an array, takes a copy and shuffles the elements randomly."
   ]
  },
  {
   "cell_type": "markdown",
   "metadata": {},
   "source": [
    "### Multi Dimensional Array"
   ]
  },
  {
   "cell_type": "code",
   "execution_count": 5,
   "metadata": {},
   "outputs": [
    {
     "data": {
      "text/plain": [
       "array([[4, 5, 6],\n",
       "       [1, 2, 3],\n",
       "       [7, 8, 9]])"
      ]
     },
     "execution_count": 5,
     "metadata": {},
     "output_type": "execute_result"
    }
   ],
   "source": [
    "#example from https://www.science-emergence.com/Articles/How-to-randomly-shuffle-an-array-in-python-using-numpy/ \n",
    "M = np.array([[1,2,3],[4,5,6],[7,8,9]])\n",
    "np.random.shuffle(M)\n",
    "M"
   ]
  },
  {
   "cell_type": "markdown",
   "metadata": {},
   "source": [
    "As you can see above, the sequence that the sets are displayed in has been shuffled, but the numbers inside the brackets have remained in the same order they were originally written in.\n",
    "\n",
    "### 1 Dimensional Array\n",
    "With an array that is 1 Dimensional, the shuffle(x) function "
   ]
  },
  {
   "cell_type": "code",
   "execution_count": 6,
   "metadata": {},
   "outputs": [
    {
     "data": {
      "text/plain": [
       "array([ 8, 16, 42, 23, 15,  4])"
      ]
     },
     "execution_count": 6,
     "metadata": {},
     "output_type": "execute_result"
    }
   ],
   "source": [
    "#example from https://www.science-emergence.com/Articles/How-to-randomly-shuffle-an-array-in-python-using-numpy/ \n",
    "M = np.array([4,8,15,16,23,42])\n",
    "np.random.shuffle(M)\n",
    "M"
   ]
  },
  {
   "cell_type": "markdown",
   "metadata": {},
   "source": [
    "The sequence that the sets are displayed in has been shuffled, but the contents inside the brackets have remained in the same order."
   ]
  },
  {
   "cell_type": "code",
   "execution_count": 7,
   "metadata": {},
   "outputs": [
    {
     "data": {
      "text/plain": [
       "array([15,  9, 12,  4,  1])"
      ]
     },
     "execution_count": 7,
     "metadata": {},
     "output_type": "execute_result"
    }
   ],
   "source": [
    "#example using an array from https://www.w3cschool.cn/doc_numpy_1_10/numpy_1_10-generated-numpy-random-permutation.html\n",
    "array = np.random.permutation([1, 4, 9, 12, 15])\n",
    "array"
   ]
  },
  {
   "cell_type": "markdown",
   "metadata": {},
   "source": [
    "In the case of an integer, the permutation function randomly permutes it's range:"
   ]
  },
  {
   "cell_type": "code",
   "execution_count": 8,
   "metadata": {},
   "outputs": [
    {
     "data": {
      "text/plain": [
       "array([7, 0, 6, 5, 3, 1, 4, 2])"
      ]
     },
     "execution_count": 8,
     "metadata": {},
     "output_type": "execute_result"
    }
   ],
   "source": [
    "#example using an integer \n",
    "integer = np.random.permutation(8)\n",
    "integer"
   ]
  },
  {
   "cell_type": "markdown",
   "metadata": {},
   "source": [
    "While researching why these functions would be used I found further material on [Machine Learning Mastery](https://machinelearningmastery.com/introduction-to-random-number-generators-for-machine-learning/) that explains this in terms of algorithms and training data and the need to shuffle data so that better performing mapping of the data is achieved. [This blog post](https://www.linkedin.com/pulse/data-shuffling-why-important-machine-learning-how-do-deepak-n-gowda) offers a concise explanation as to why these functions are necessary - \"In machine learning, we are often presented with a dataset that will be further split into training, testing & validation datasets. It is very important that dataset is shuffled well to avoid any element of bias/patterns in the split datasets before training the ML model\"."
   ]
  },
  {
   "cell_type": "markdown",
   "metadata": {},
   "source": [
    "## Distributions\n",
    "The numpy.random package offers a range of random samples that can be drawn from a number of diverse probability distributions.  \n",
    "\n",
    "The **binomial** distribution is the [distribution of the possible number of successful outcomes in a given number of trials in each of which there is the same probability of success](https://en.oxforddictionaries.com/definition/binomial_distribution).  A binomial distribution is discrete as only 1 or 0 is a valid outcome, so is best described in terms of success or failure. The Numpy documentation gives a good example of code to demonstrate this and I found some code to plot if effectively [here](http://cmdlinetips.com/2018/03/probability-distributions-in-python/)"
   ]
  },
  {
   "cell_type": "code",
   "execution_count": 9,
   "metadata": {},
   "outputs": [
    {
     "name": "stderr",
     "output_type": "stream",
     "text": [
      "C:\\Users\\Aideen and Ken\\Anaconda3\\lib\\site-packages\\scipy\\stats\\stats.py:1713: FutureWarning: Using a non-tuple sequence for multidimensional indexing is deprecated; use `arr[tuple(seq)]` instead of `arr[seq]`. In the future this will be interpreted as an array index, `arr[np.array(seq)]`, which will result either in an error or a different result.\n",
      "  return np.add.reduce(sorted[indexer] * weights, axis=axis) / sumval\n"
     ]
    },
    {
     "data": {
      "text/plain": [
       "[Text(0,0.5,'Frequency'), Text(0.5,0,'Binomial Distribution')]"
      ]
     },
     "execution_count": 9,
     "metadata": {},
     "output_type": "execute_result"
    },
    {
     "data": {
      "image/png": "[encoded data removed]",
      "text/plain": [
       "<Figure size 432x288 with 1 Axes>"
      ]
     },
     "metadata": {
      "needs_background": "light"
     },
     "output_type": "display_data"
    }
   ],
   "source": [
    "n, p = 10, 0.5  # number of trials, probability of each trial\n",
    "s = np.random.binomial(n, p, 1000)# result of flipping a coin 10 times, tested 1000 times\n",
    "ax = sns.distplot(s,\n",
    "                  kde=False,\n",
    "                  color='skyblue',\n",
    "                  hist_kws={\"linewidth\": 15,'alpha':1})\n",
    "ax.set(xlabel='Binomial Distribution', ylabel='Frequency')#http://cmdlinetips.com/2018/03/probability-distributions-in-python/\n"
   ]
  },
  {
   "cell_type": "markdown",
   "metadata": {},
   "source": [
    "Samples can also be drawn from a **poisson** distribution, which is [the limit of the binomial distribution for large N](https://docs.scipy.org/doc/numpy-1.15.1/reference/generated/numpy.random.poisson.html#numpy.random.poisson). It expresses the frequency of events during a specific interval of time and can be used to predict further events on that basis.  While it is similar to the binomial distrubution in that it counts discrete occurrences, the series that it counts them in is continuous."
   ]
  },
  {
   "cell_type": "code",
   "execution_count": 10,
   "metadata": {},
   "outputs": [
    {
     "name": "stderr",
     "output_type": "stream",
     "text": [
      "C:\\Users\\Aideen and Ken\\Anaconda3\\lib\\site-packages\\scipy\\stats\\stats.py:1713: FutureWarning: Using a non-tuple sequence for multidimensional indexing is deprecated; use `arr[tuple(seq)]` instead of `arr[seq]`. In the future this will be interpreted as an array index, `arr[np.array(seq)]`, which will result either in an error or a different result.\n",
      "  return np.add.reduce(sorted[indexer] * weights, axis=axis) / sumval\n"
     ]
    },
    {
     "data": {
      "text/plain": [
       "<matplotlib.axes._subplots.AxesSubplot at 0x21aa82d4908>"
      ]
     },
     "execution_count": 10,
     "metadata": {},
     "output_type": "execute_result"
    },
    {
     "data": {
      "image/png": "[encoded data removed]",
      "text/plain": [
       "<Figure size 432x288 with 1 Axes>"
      ]
     },
     "metadata": {
      "needs_background": "light"
     },
     "output_type": "display_data"
    }
   ],
   "source": [
    "s = np.random.poisson(10, 2000)\n",
    "sns.distplot(s)"
   ]
  },
  {
   "cell_type": "markdown",
   "metadata": {},
   "source": [
    "The graph above shows the probability of the occurring events as a histogram and the interval that they occur in is expressed as the curve tracking over it's bins."
   ]
  },
  {
   "cell_type": "markdown",
   "metadata": {},
   "source": [
    "Exponential distribution can be used to find the time interval between two such events in a Poisson point process, i.e. [a process in which events occur continuously and independently at a constant average rate](https://en.wikipedia.org/wiki/Exponential_distribution) "
   ]
  },
  {
   "cell_type": "code",
   "execution_count": 11,
   "metadata": {},
   "outputs": [
    {
     "data": {
      "text/plain": [
       "(array([1047.,  520.,  235.,  115.,   48.,   21.,    6.,    5.,    0.,\n",
       "           3.]),\n",
       " array([2.26539899e-04, 3.90002903e-01, 7.79779266e-01, 1.16955563e+00,\n",
       "        1.55933199e+00, 1.94910836e+00, 2.33888472e+00, 2.72866108e+00,\n",
       "        3.11843745e+00, 3.50821381e+00, 3.89799017e+00]),\n",
       " <a list of 10 Patch objects>)"
      ]
     },
     "execution_count": 11,
     "metadata": {},
     "output_type": "execute_result"
    },
    {
     "data": {
      "image/png": "[encoded data removed]",
      "text/plain": [
       "<Figure size 432x288 with 1 Axes>"
      ]
     },
     "metadata": {
      "needs_background": "light"
     },
     "output_type": "display_data"
    }
   ],
   "source": [
    "p = np.random.exponential(0.5, 2000)\n",
    "plt.hist(p)"
   ]
  },
  {
   "cell_type": "markdown",
   "metadata": {},
   "source": [
    "The function numpy.random.uniform draws samples from a uniform distribution, much like the **randint** function I discussed earlier. However, the randint function generates a selection of values in a given range in a given array size, while numpy.random.uniform picks samples that are uniformly distributed over the half-open interval, so that any value in the range of the parameters has an equal probability of being chosen."
   ]
  },
  {
   "cell_type": "code",
   "execution_count": 29,
   "metadata": {},
   "outputs": [
    {
     "data": {
      "text/plain": [
       "array([ 0,  0, -1, -1, -1, -1,  0,  0, -1,  0,  0,  0,  0,  0,  0,  0, -1,\n",
       "       -1,  0,  0,  0, -1, -1,  0,  0,  0,  0,  0, -1, -1, -1, -1, -1,  0,\n",
       "       -1, -1,  0, -1,  0, -1,  0, -1, -1,  0,  0, -1,  0, -1,  0, -1,  0,\n",
       "       -1,  0, -1, -1, -1, -1,  0,  0, -1, -1,  0,  0,  0,  0, -1,  0, -1,\n",
       "        0,  0, -1,  0, -1, -1, -1,  0,  0,  0, -1, -1, -1,  0, -1,  0, -1,\n",
       "        0, -1, -1,  0,  0,  0,  0, -1, -1, -1, -1, -1,  0, -1, -1])"
      ]
     },
     "execution_count": 29,
     "metadata": {},
     "output_type": "execute_result"
    }
   ],
   "source": [
    "np.random.randint(-1,1,100)"
   ]
  },
  {
   "cell_type": "code",
   "execution_count": 28,
   "metadata": {},
   "outputs": [
    {
     "data": {
      "text/plain": [
       "array([ 0.12218483, -0.88738164, -0.64261273,  0.31935425,  0.73144372,\n",
       "       -0.85821002,  0.5111422 , -0.57913228, -0.49301203, -0.04180279,\n",
       "        0.22247314, -0.52768659, -0.73719933,  0.41319174,  0.1046038 ,\n",
       "       -0.5840543 , -0.75259086, -0.07859774,  0.553993  ,  0.11185618,\n",
       "        0.70689913,  0.20048623,  0.86356958,  0.01986379,  0.11775501,\n",
       "       -0.47414259, -0.65935932, -0.58709073,  0.57490245,  0.92511529,\n",
       "        0.85519809, -0.01371473,  0.0106647 , -0.95381987,  0.5229023 ,\n",
       "        0.7770784 , -0.43575861, -0.3153293 , -0.20865579, -0.26186164,\n",
       "        0.47243575, -0.399585  , -0.52720266, -0.77211657, -0.16244935,\n",
       "       -0.79730839, -0.75142178,  0.28974271, -0.35834619, -0.22589917,\n",
       "       -0.28733925, -0.67444237, -0.34045162, -0.84520436, -0.5805025 ,\n",
       "        0.59439191, -0.20795234, -0.22181084, -0.87346237, -0.12948763,\n",
       "        0.42236543, -0.97702427, -0.97077294, -0.41601824,  0.81906462,\n",
       "       -0.56259021,  0.80263431,  0.24191544, -0.2270091 ,  0.96667635,\n",
       "       -0.12591698, -0.39027126, -0.05533625, -0.52353191,  0.19708324,\n",
       "       -0.09394815, -0.01776775, -0.2306054 ,  0.1201971 ,  0.91739113,\n",
       "       -0.42000053,  0.00545006,  0.97344386, -0.35775214, -0.95307456,\n",
       "       -0.26393168, -0.12401731,  0.83826212, -0.7096082 , -0.86596587,\n",
       "        0.79011595,  0.34078819, -0.66730746,  0.29501291,  0.77910764,\n",
       "        0.37116186, -0.65904771, -0.43948818, -0.94179933, -0.76442747])"
      ]
     },
     "execution_count": 28,
     "metadata": {},
     "output_type": "execute_result"
    }
   ],
   "source": [
    "np.random.uniform(-1,1, 100)"
   ]
  },
  {
   "cell_type": "markdown",
   "metadata": {},
   "source": [
    "While researching for this assignment I found a great detailed blog post on the Beta distribution that explains it as [a distribution for probabilities. Beta distribution is a continuous distribution taking values from 0 to 1. It is defined by two parameters alpha and beta, depending on the values of alpha and beta they can assume very different distributions](http://cmdlinetips.com/2018/03/probability-distributions-in-python/) It is basically a probability distribution of probabilities. I decided to try chart 3 different probability curves within one graph to demonstrate this:"
   ]
  },
  {
   "cell_type": "code",
   "execution_count": 24,
   "metadata": {},
   "outputs": [
    {
     "name": "stderr",
     "output_type": "stream",
     "text": [
      "C:\\Users\\Aideen and Ken\\Anaconda3\\lib\\site-packages\\scipy\\stats\\stats.py:1713: FutureWarning: Using a non-tuple sequence for multidimensional indexing is deprecated; use `arr[tuple(seq)]` instead of `arr[seq]`. In the future this will be interpreted as an array index, `arr[np.array(seq)]`, which will result either in an error or a different result.\n",
      "  return np.add.reduce(sorted[indexer] * weights, axis=axis) / sumval\n"
     ]
    },
    {
     "data": {
      "text/plain": [
       "<matplotlib.axes._subplots.AxesSubplot at 0x21aa88f4198>"
      ]
     },
     "execution_count": 24,
     "metadata": {},
     "output_type": "execute_result"
    },
    {
     "data": {
      "image/png": "[encoded data removed]",
      "text/plain": [
       "<Figure size 432x288 with 1 Axes>"
      ]
     },
     "metadata": {
      "needs_background": "light"
     },
     "output_type": "display_data"
    }
   ],
   "source": [
    "alpha = 1\n",
    "beta = 1\n",
    "p = np.random.beta(alpha, beta, 1000)#to create a random array of 1000 samples with uniform distribution\n",
    "sns.kdeplot (p)\n",
    "\n",
    "alpha = 10\n",
    "beta = 1\n",
    "q = np.random.beta(alpha, beta, 1000)#to create a random array of 1000 samples skewed to the right\n",
    "sns.kdeplot(q)\n",
    "\n",
    "alpha = 1\n",
    "beta = 10\n",
    "r = np.random.beta(alpha,beta, 1000)#to create a random array of 1000 samples skewed to the left\n",
    "sns.kdeplot(r)"
   ]
  },
  {
   "cell_type": "markdown",
   "metadata": {},
   "source": [
    "## Random Seed\n",
    "\n",
    "In programming, randomly generated numbers can be used to test and debug code, but it is important to have consistency in the tests, so for this reason, fixing the seed of the random module can help. (http://hplgit.github.io/scipro-primer/slides/random/html/random-reveal.html) https://stackoverflow.com/questions/5836335/consistently-create-same-random-numpy-array\n",
    "http://wwwcp.tphys.uni-heidelberg.de/Polymer/day2/random_numbers/p2.htm \n",
    "https://www.random.org/randomness/\n",
    "https://www.ibm.com/developerworks/library/s-playing/ "
   ]
  },
  {
   "cell_type": "markdown",
   "metadata": {},
   "source": [
    "## References\n",
    "1. [NumPy](http://www.numpy.org/)\n",
    "2. [SciPy](https://scipy.org/)\n",
    "3. [Random Number Generation](https://en.wikipedia.org/wiki/Random_number_generation)\n",
    "4. [Probability Sampling Method](https://www.statisticshowto.datasciencecentral.com/probability-sampling/)\n",
    "5. [How to Generate Random Numbers in Python](https://machinelearningmastery.com/how-to-generate-random-numbers-in-python/) \n",
    "6. [Numpy.random User Documentation](https://docs.scipy.org/doc/numpy-1.15.1/reference/routines.random.html)\n",
    "7. [Mersenne Twister](https://en.wikipedia.org/wiki/Mersenne_Twister)\n",
    "8. [Python random module](https://docs.python.org/3/library/random.html)\n",
    "9. [ndarrays](https://docs.scipy.org/doc/numpy-1.15.0/reference/generated/numpy.ndarray.html)\n",
    "10.\n"
   ]
  }
 ],
 "metadata": {
  "kernelspec": {
   "display_name": "Python 3",
   "language": "python",
   "name": "python3"
  },
  "language_info": {
   "codemirror_mode": {
    "name": "ipython",
    "version": 3
   },
   "file_extension": ".py",
   "mimetype": "text/x-python",
   "name": "python",
   "nbconvert_exporter": "python",
   "pygments_lexer": "ipython3",
   "version": "3.6.6"
  }
 },
 "nbformat": 4,
 "nbformat_minor": 2
}
