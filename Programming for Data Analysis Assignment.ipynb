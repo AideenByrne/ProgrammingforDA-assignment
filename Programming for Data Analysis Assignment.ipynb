{
 "cells": [
  {
   "cell_type": "markdown",
   "metadata": {},
   "source": [
    "## Investigating the numpy.random package in Python"
   ]
  },
  {
   "cell_type": "markdown",
   "metadata": {},
   "source": [
    "![numpy.jpg](numpy.jpg)\n",
    "[NumPy](http://www.numpy.org/) (which stands for Numerical Python) is a library for the Python programming language, that adds support for huge multi-dimensional arrays and matrices of data. It also provides a large collection of high-level mathematical functions to operate on these arrays. It is an open source project and free to import. \n",
    "\n",
    "Randomly generated data is important in [various kinds of statistical research as well as aspects of computer science such as simulation and cryptography](https://en.wikipedia.org/wiki/Random_number_generation) and other areas where unpredictable results are necessary. \n",
    "\n",
    "[numpy.random](https://docs.scipy.org/doc/numpy-1.15.1/reference/routines.random.html) is a submodule of the NumPy package that is used to generate random (or indeed, pseudorandom) numbers, using  an algorithm called the [Mersenne Twister](https://en.wikipedia.org/wiki/Mersenne_Twister), a pseudorandom number generator (PRNG).  This means that numpy.random does not generate numbers that are random in the *truest* sense of the term, rather it's sequence is based on random seed generation, which I'll discuss later in this assignment. \n",
    "\n"
   ]
  },
  {
   "cell_type": "markdown",
   "metadata": {},
   "source": [
    "## Simple random data\n",
    "I decided to try out the various functions as part of the numpy.random submodule to see if running and testing them could help me to understand what each of them does. I found a [blog post](http://www.learningaboutelectronics.com/Articles/How-to-create-an-array-of-random-integers-in-Python-with-numpy.php) that began with an introduction to the submodule and how to create an array of random integers (an array being...)"
   ]
  },
  {
   "cell_type": "code",
   "execution_count": 1,
   "metadata": {},
   "outputs": [
    {
     "name": "stdout",
     "output_type": "stream",
     "text": [
      "[61 65 31 80 74]\n"
     ]
    }
   ],
   "source": [
    "import numpy as np\n",
    "#creates an array of 5 random integers from 1 too 100\n",
    "test1 = np.random.randint(1,101,5)\n",
    "print (test1)"
   ]
  },
  {
   "cell_type": "markdown",
   "metadata": {},
   "source": [
    "Using this blog's suggested array as a basis for further testing, I listed through the rest of the commands in the Simple Random Data *category* as follows:"
   ]
  },
  {
   "cell_type": "code",
   "execution_count": 2,
   "metadata": {},
   "outputs": [
    {
     "name": "stdout",
     "output_type": "stream",
     "text": [
      "[[[-2.31017967e+00  1.55077370e-04  3.11560926e-01 -1.92898024e+00\n",
      "    1.79348471e-01]\n",
      "  [-1.24830335e+00 -5.01863297e-01 -1.25676753e+00 -5.89568596e-02\n",
      "   -7.61345749e-01]\n",
      "  [ 5.13733276e-01 -1.52107336e+00  1.11705229e-01 -4.40908291e-01\n",
      "   -3.59338705e-01]\n",
      "  [-1.80564426e-01  4.88055225e-02 -1.36550576e+00  3.56832945e-01\n",
      "   -1.56057248e+00]\n",
      "  [ 5.33609907e-01 -6.98988149e-01 -4.19795402e-01  8.95294042e-01\n",
      "    4.81439678e-01]\n",
      "  [-1.32257694e+00  4.00294583e-01  1.16814405e+00 -1.70538510e+00\n",
      "   -1.31437787e+00]\n",
      "  [ 5.87915228e-01 -2.42709661e-01 -9.17509156e-01  1.65321827e+00\n",
      "   -1.21093247e+00]\n",
      "  [ 1.04679186e+00 -9.90098138e-01 -1.15773831e+00 -2.96104144e-01\n",
      "   -4.30789777e-01]\n",
      "  [-1.31629959e+00 -2.55399260e-01  1.09516146e+00 -7.22811243e-01\n",
      "   -1.83163304e+00]\n",
      "  [-2.69602520e-03  1.52306382e+00  1.13281618e+00  4.37586174e-01\n",
      "   -3.96131280e-01]\n",
      "  [ 1.89518202e-01 -1.21159166e+00 -8.24324114e-01  1.08122183e+00\n",
      "   -1.42731400e+00]\n",
      "  [ 9.87082592e-01  4.14044590e-01  7.82202806e-02  1.29793816e+00\n",
      "    1.81502924e-01]\n",
      "  [ 7.26373065e-01  3.11581332e-01 -2.31107702e-01 -5.37551910e-02\n",
      "   -3.34192409e-01]\n",
      "  [-5.95882829e-01  2.38447460e+00  5.15010011e-01 -2.51348261e-01\n",
      "   -2.50119846e-01]\n",
      "  [ 5.42099240e-02  1.68734085e+00 -5.80805190e-01 -6.32545122e-01\n",
      "   -1.42562383e+00]\n",
      "  [-2.08721965e-01  3.26250419e-01  1.22385365e-01 -1.92999906e-01\n",
      "   -2.26515456e+00]\n",
      "  [ 5.49567202e-01 -1.96699344e+00 -4.67379651e-01 -5.42376075e-01\n",
      "   -3.05747888e-01]\n",
      "  [-9.00300069e-01  1.18183575e-01 -1.01717704e+00  2.76533909e-03\n",
      "    3.18267780e-01]\n",
      "  [-3.03862098e-01  3.22048155e-01 -2.27185733e-01 -8.91384134e-01\n",
      "    1.21945478e+00]\n",
      "  [-1.27909001e+00  1.26997686e-02 -7.30958216e-01  1.12394804e+00\n",
      "   -1.54809081e+00]\n",
      "  [ 3.77018775e-01  1.06169462e+00 -2.14949520e-01 -2.44330167e+00\n",
      "   -1.44696154e-01]\n",
      "  [ 9.22269397e-01  4.11424303e-02 -8.71622368e-01  8.34026814e-02\n",
      "   -8.09582847e-01]\n",
      "  [-5.94468403e-01 -1.03088123e-01 -5.73887589e-01 -7.58497423e-01\n",
      "   -5.81022807e-01]\n",
      "  [-5.83394125e-01  1.18572391e-01 -1.01147113e+00 -4.43605965e-01\n",
      "    1.18929325e+00]\n",
      "  [-9.16894683e-01 -4.70975699e-01  4.28481069e-01 -1.65028889e+00\n",
      "    1.38373910e+00]\n",
      "  [-4.99954812e-01 -1.21373738e+00  1.16782796e+00  4.18156842e-02\n",
      "    1.29369725e+00]\n",
      "  [-1.06525031e+00  7.89672340e-01 -3.77026633e-01  2.28512070e+00\n",
      "    2.06725365e-01]\n",
      "  [-6.32611001e-01 -3.64037308e-01 -5.76687784e-01  7.00301611e-01\n",
      "   -1.57284929e+00]\n",
      "  [ 1.25996143e-02 -9.30859976e-01 -4.55548773e-01 -3.59906299e-01\n",
      "    2.81706833e-01]\n",
      "  [ 7.58633554e-01 -7.07071982e-01  1.07728583e+00 -1.61283900e-01\n",
      "    1.36459713e+00]\n",
      "  [ 4.89492708e-01  5.07821629e-01 -1.90422048e+00  6.70167197e-01\n",
      "    2.25942146e+00]\n",
      "  [ 2.93947575e-01 -9.95818300e-01 -1.06094866e+00  5.23410208e-01\n",
      "    6.50609376e-01]\n",
      "  [-4.74645350e-01 -1.37402419e-01 -9.64674846e-01 -5.59901684e-01\n",
      "    6.77301258e-01]\n",
      "  [ 6.60225167e-01  1.03189167e+00 -7.74066492e-01  8.63419109e-01\n",
      "    4.99775395e-01]\n",
      "  [ 1.28820628e-04  2.22349421e+00  8.85640483e-01  6.37008758e-01\n",
      "   -1.02989215e+00]\n",
      "  [ 1.42966979e-01 -1.55709417e+00  1.01121764e+00  3.15346837e-01\n",
      "   -2.01138282e+00]\n",
      "  [ 9.60805382e-01  6.23544809e-02  2.33036362e-01 -1.00639541e-01\n",
      "    1.10819498e+00]\n",
      "  [ 4.77306704e-01  6.65177917e-01 -1.90544956e+00 -1.16084234e-01\n",
      "    1.56665477e+00]\n",
      "  [ 2.71464049e-01 -1.46312878e+00  9.81634486e-01 -9.72407620e-01\n",
      "   -1.20729921e+00]\n",
      "  [-4.22182789e-02  1.45002712e+00 -1.11640032e-03 -4.60064012e-01\n",
      "    3.32733791e+00]\n",
      "  [-1.47630675e+00  3.83978700e-01  7.40608442e-01 -8.11176675e-02\n",
      "    8.52453048e-02]\n",
      "  [ 2.91144517e-01  1.40630886e+00 -1.35864922e+00 -2.90838795e-01\n",
      "   -6.66794000e-01]\n",
      "  [-2.19036745e-01 -6.77850066e-01  5.30768817e-01 -3.67368688e-01\n",
      "    2.70362177e-01]\n",
      "  [-6.97018779e-01 -1.33355819e+00  4.00962706e-01  8.40391232e-02\n",
      "   -5.25412842e-01]\n",
      "  [-1.83238109e+00 -7.29646725e-01  1.10274766e+00  5.95256290e-01\n",
      "   -3.81253884e-01]\n",
      "  [ 9.97001084e-01 -1.51568567e+00  1.76425603e-01 -1.56939181e-02\n",
      "    1.08754686e+00]\n",
      "  [-1.32899473e-01  4.34552669e-01  7.19575782e-01  1.18170991e+00\n",
      "   -1.70431369e+00]\n",
      "  [ 1.95142917e+00 -9.63166107e-01  2.34103715e+00  6.11564195e-01\n",
      "   -3.06672068e-01]\n",
      "  [ 6.50992875e-02  3.59541202e-01  2.41941301e-01  1.63440759e+00\n",
      "   -1.23239988e+00]\n",
      "  [-1.44415614e+00  1.16322678e-01  1.63905010e-01  1.55622048e+00\n",
      "    7.87882191e-01]\n",
      "  [ 8.45229550e-01  6.27581863e-01 -4.81487238e-01  1.27367899e+00\n",
      "   -3.14288507e-01]\n",
      "  [ 7.10064175e-01  1.68475265e+00  3.99688364e-01  3.47124346e-01\n",
      "    1.89719149e+00]\n",
      "  [-1.24758142e+00  8.73681542e-02 -3.22982220e-01  1.91644812e+00\n",
      "    9.10080106e-01]\n",
      "  [ 9.96473189e-01  2.11098140e+00  3.78316833e-01  3.00909404e-01\n",
      "    5.18240706e-01]\n",
      "  [ 6.88229598e-01  1.53847799e-01  1.66864224e+00  2.89658246e-01\n",
      "    1.04732755e+00]\n",
      "  [-4.29394923e-01 -1.06425868e+00  1.02287487e+00  3.52059377e-01\n",
      "    1.50470938e+00]\n",
      "  [-6.00592874e-01 -2.21227404e+00 -5.35409971e-02 -5.37263559e-01\n",
      "   -7.15878576e-01]\n",
      "  [-2.65973902e-01  1.66000324e+00  1.46851439e-01  6.03873515e-01\n",
      "    2.44912849e+00]\n",
      "  [ 8.97554708e-01  1.89110998e+00  1.18188110e+00 -1.13901848e+00\n",
      "    2.08473906e-01]\n",
      "  [-4.95878804e-01 -5.39171653e-01  6.70942472e-01 -4.88050289e-01\n",
      "   -5.09012488e-01]\n",
      "  [ 3.04596337e-01  1.18642589e-01 -4.93709552e-01  7.05967514e-01\n",
      "    1.46848713e+00]\n",
      "  [-2.18606121e+00 -1.75460003e+00 -1.25761343e+00 -2.53415893e-01\n",
      "   -5.83579532e-01]\n",
      "  [ 3.50852900e-02 -1.03415876e+00 -8.12539801e-01 -3.96230219e-02\n",
      "   -6.78978854e-01]\n",
      "  [-1.85084478e+00 -4.14955718e-01  2.10153080e+00  5.29647986e-01\n",
      "   -4.44455336e-01]\n",
      "  [-1.71779672e+00  4.43121108e-01  1.15926738e-01  2.11707246e-01\n",
      "   -6.56590578e-01]\n",
      "  [ 4.57712289e-01 -4.10998324e-01  1.73036369e-01  1.14170466e-01\n",
      "    1.99013713e-01]\n",
      "  [ 2.43730822e+00 -9.97415734e-01 -7.63819002e-01 -1.17698394e+00\n",
      "   -2.49659713e-01]\n",
      "  [ 1.01859683e+00 -1.82346954e-01  1.45834286e+00  4.21548751e-01\n",
      "   -3.36995340e-01]\n",
      "  [-7.88670672e-01 -2.10395021e-02 -8.29247218e-01  2.66283895e-01\n",
      "   -1.18298296e+00]\n",
      "  [ 1.18579587e+00 -1.03342317e+00 -5.62502490e-01 -3.15102663e-01\n",
      "    1.90353693e+00]\n",
      "  [ 3.77532636e-01  9.72840496e-01  4.36815902e-02  2.60901209e-01\n",
      "   -2.93317998e-01]\n",
      "  [ 1.18072938e-01 -2.16632499e+00  1.50341681e+00 -4.77562635e-01\n",
      "    3.70145522e-01]\n",
      "  [-5.97255905e-02  1.23033071e+00 -7.40143935e-02  8.98036845e-01\n",
      "    3.35886754e-01]\n",
      "  [ 3.80425871e-01 -2.68900802e-01  1.01945762e-01  2.14881410e+00\n",
      "   -1.21437464e+00]\n",
      "  [ 2.86615084e+00 -1.04045875e+00  6.27316315e-01 -1.01627796e+00\n",
      "    2.42496114e+00]\n",
      "  [ 4.70569965e-02  3.58652771e-01  2.58311625e-01  1.66623692e-01\n",
      "   -4.06542911e-01]\n",
      "  [-1.51851788e+00  1.15084153e+00 -7.49246682e-01  6.92073099e-01\n",
      "   -5.09881375e-01]\n",
      "  [-2.02876169e+00  3.53065521e-01  1.87149370e+00  4.66330371e-01\n",
      "    1.20042104e+00]\n",
      "  [ 1.12931094e+00  9.81535064e-01  1.35733550e+00 -1.99599455e+00\n",
      "    3.33692966e-02]\n",
      "  [ 1.65970926e-01  3.54387458e-01  2.37896088e+00  2.07765984e+00\n",
      "   -8.02440837e-01]\n",
      "  [ 1.18125509e+00  8.62639356e-02 -6.33350018e-01  7.15203513e-01\n",
      "    1.43810829e+00]\n",
      "  [-9.87149424e-02  6.61822623e-01  2.59063659e-01  1.41051553e-01\n",
      "    1.32224112e-01]\n",
      "  [-6.57959693e-01 -7.93941770e-01 -9.15429779e-02  2.73267533e-02\n",
      "   -2.93531892e+00]\n",
      "  [ 6.77734071e-01  3.83051886e-01  4.30031530e-01 -1.00735530e+00\n",
      "   -1.26724322e+00]\n",
      "  [-1.32128671e+00 -1.14090461e+00  1.09563486e+00  3.81653077e-01\n",
      "   -1.27199468e+00]\n",
      "  [ 7.84296366e-02  5.12559749e-02  1.40339107e+00 -4.20264451e-01\n",
      "    1.60895164e+00]\n",
      "  [-1.44422647e+00  1.21412140e+00 -1.58256407e-01  2.46428805e-01\n",
      "    4.31515239e-02]\n",
      "  [ 2.14428584e-01  2.70908029e-01  5.77980158e-01  6.85437917e-01\n",
      "    4.23740847e-01]\n",
      "  [-1.66100043e+00 -1.08510565e+00 -4.38403480e-01 -2.49288575e-01\n",
      "   -4.85571089e-01]\n",
      "  [-3.49730781e-01  1.63387072e+00  1.55972995e-01 -7.79253379e-01\n",
      "   -1.56791421e+00]\n",
      "  [ 6.35056128e-01 -1.18412758e-01 -9.14056264e-01  1.09631987e-01\n",
      "   -1.06353692e+00]\n",
      "  [ 3.14337095e-01 -2.27613268e-01 -1.14144239e+00 -2.41202898e-01\n",
      "    9.60223582e-01]\n",
      "  [ 2.28814956e+00  3.27886851e-01  9.44529769e-01  8.70058758e-01\n",
      "   -3.16336913e-02]\n",
      "  [-5.17112958e-01  8.23770389e-01  8.94462149e-01  1.18179400e+00\n",
      "   -2.44657120e+00]\n",
      "  [ 3.30816587e-03  4.02971528e-01  5.41075347e-01  1.66765432e+00\n",
      "    1.77716785e+00]\n",
      "  [-6.46750641e-02  3.01455462e-02  8.57736691e-01 -3.62963761e-01\n",
      "    1.11254848e+00]\n",
      "  [ 7.24607512e-01 -5.12235914e-01 -3.49023561e-01  2.63820917e-01\n",
      "   -1.98399333e+00]\n",
      "  [ 9.36343208e-02  3.34516777e-01  5.77768425e-01 -7.35686453e-01\n",
      "   -1.66826358e+00]\n",
      "  [-4.80942573e-03  5.04936281e-01  2.09677177e+00  9.97344272e-02\n",
      "   -4.04240687e-01]\n",
      "  [ 1.35701965e+00  1.67945080e+00  2.52324045e+00  1.39150318e+00\n",
      "   -1.00275290e+00]\n",
      "  [ 7.49014998e-01 -1.46027454e+00 -1.10286196e+00 -3.87829751e-01\n",
      "    1.01037251e+00]]]\n",
      "[85 31 78 15  4]\n"
     ]
    }
   ],
   "source": [
    "test2 = np.random.randn(1,101,5)\n",
    "print (test2)\n",
    "\n",
    "test3 = np.random.randint(1, 101,5)\n",
    "print (test3)\n",
    "\n",
    "#the function np.random.integers has been deprecated and replaced with the above np.random.randint"
   ]
  },
  {
   "cell_type": "markdown",
   "metadata": {},
   "source": [
    "## Permutations\n",
    "The Permutations functions of numpy.random are [shuffle(x)](https://docs.scipy.org/doc/numpy-1.15.0/reference/generated/numpy.random.shuffle.html) and [permutation(x)](https://docs.scipy.org/doc/numpy-1.15.0/reference/generated/numpy.random.permutation.html#numpy.random.permutation).  \n",
    "\n",
    "Both of these functions relate to re-arranging provided random data. The shuffle(x) function shuffles data on the first axis of a multi-dimensional array, where the order of sub-arrays is changed but the contents remain the same:\n",
    "\n",
    "### 1D Array"
   ]
  },
  {
   "cell_type": "code",
   "execution_count": 3,
   "metadata": {},
   "outputs": [
    {
     "data": {
      "text/plain": [
       "array([16, 42,  8,  4, 15, 23])"
      ]
     },
     "execution_count": 3,
     "metadata": {},
     "output_type": "execute_result"
    }
   ],
   "source": [
    "#example from https://www.science-emergence.com/Articles/How-to-randomly-shuffle-an-array-in-python-using-numpy/ \n",
    "import numpy as np\n",
    "M = np.array([4,8,15,16,23,42])\n",
    "np.random.shuffle(M)\n",
    "M"
   ]
  },
  {
   "cell_type": "markdown",
   "metadata": {},
   "source": [
    "### 2D Array"
   ]
  },
  {
   "cell_type": "code",
   "execution_count": 4,
   "metadata": {},
   "outputs": [
    {
     "data": {
      "text/plain": [
       "array([[1, 2, 3],\n",
       "       [4, 5, 6],\n",
       "       [7, 8, 9]])"
      ]
     },
     "execution_count": 4,
     "metadata": {},
     "output_type": "execute_result"
    }
   ],
   "source": [
    "#example from https://www.science-emergence.com/Articles/How-to-randomly-shuffle-an-array-in-python-using-numpy/ \n",
    "import numpy as np\n",
    "M = np.array([[1,2,3],[4,5,6],[7,8,9]])\n",
    "np.random.shuffle(M)\n",
    "M"
   ]
  },
  {
   "cell_type": "markdown",
   "metadata": {},
   "source": [
    "As you can see above, the sequence that the sets are displayed in has been shuffled, but the contents inside the brackets have remained in the same order.\n",
    "\n",
    "The permutation(x) function however, when given an array, takes a copy and shuffles the elements randomly. "
   ]
  },
  {
   "cell_type": "code",
   "execution_count": 5,
   "metadata": {},
   "outputs": [
    {
     "data": {
      "text/plain": [
       "array([12,  1, 15,  4,  9])"
      ]
     },
     "execution_count": 5,
     "metadata": {},
     "output_type": "execute_result"
    }
   ],
   "source": [
    "#example using an array from https://www.w3cschool.cn/doc_numpy_1_10/numpy_1_10-generated-numpy-random-permutation.html\n",
    "import numpy as np\n",
    "array = np.random.permutation([1, 4, 9, 12, 15])\n",
    "array"
   ]
  },
  {
   "cell_type": "markdown",
   "metadata": {},
   "source": [
    "In the case of an integer, the permutation function randomly permutes it's range:"
   ]
  },
  {
   "cell_type": "code",
   "execution_count": 6,
   "metadata": {},
   "outputs": [
    {
     "data": {
      "text/plain": [
       "array([6, 2, 1, 7, 3, 5, 4, 0])"
      ]
     },
     "execution_count": 6,
     "metadata": {},
     "output_type": "execute_result"
    }
   ],
   "source": [
    "#example using an integer \n",
    "import numpy as np\n",
    "integer = np.random.permutation(8)\n",
    "integer"
   ]
  },
  {
   "cell_type": "code",
   "execution_count": null,
   "metadata": {},
   "outputs": [],
   "source": []
  }
 ],
 "metadata": {
  "kernelspec": {
   "display_name": "Python 3",
   "language": "python",
   "name": "python3"
  },
  "language_info": {
   "codemirror_mode": {
    "name": "ipython",
    "version": 3
   },
   "file_extension": ".py",
   "mimetype": "text/x-python",
   "name": "python",
   "nbconvert_exporter": "python",
   "pygments_lexer": "ipython3",
   "version": "3.6.6"
  }
 },
 "nbformat": 4,
 "nbformat_minor": 2
}
